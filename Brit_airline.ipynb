{
 "cells": [
  {
   "cell_type": "markdown",
   "metadata": {},
   "source": [
    "# Report"
   ]
  },
  {
   "cell_type": "markdown",
   "metadata": {},
   "source": [
    "## Comparative Report between British Airways and competing airlines of 3 BA Most Profitable Routes. "
   ]
  },
  {
   "cell_type": "markdown",
   "metadata": {},
   "source": [
    "### Introduction\n",
    "\n",
    "In this analysis, we aim to compare British Airways (BA) with its main competitors on three popular international routes: JFK, Dubai, and Hong Kong, based on 2022 data. The identified main competitors for these routes are American Airlines, Emirati Airline, and Cathay Pacific Airlines. To ensure a uniform analysis, I decide to only take into account the economy class reviews.\n",
    "\n",
    "### Identified Metrics\n",
    "\n",
    "Two key metrics will be considered in this comparative analysis:\n",
    "\n",
    "1. **Customer Service Comments and Quantifiable Rating:**\n",
    "   - We will analyze customer reviews and ratings related to customer service. This will involve considering both qualitative comments and quantifiable ratings provided by passengers.\n",
    "\n",
    "2. **Pricing:**\n",
    "   - The pricing strategy of each airline will be assessed. This includes examining the affordability and value for money perceived by customers.\n",
    "\n",
    "### Review Limitations and Caveats\n",
    "\n",
    "It's crucial to acknowledge and address potential biases and limitations in the review data:\n",
    "\n",
    "1. **Negativity Bias:**\n",
    "   - Recognize that dissatisfied customers may be more inclined to leave reviews. This negativity bias could skew the representation of the overall customer experience. To mitigate this, we will attempt to extract insights from a diverse range of reviews.\n",
    "\n",
    "2. **Incomplete Representation:**\n",
    "   - Acknowledge that online reviews may not provide a comprehensive view of the passenger experience. Some satisfied customers may not leave reviews, leading to an incomplete representation. We will attempt to account for this limitation by considering multiple sources and trends over time.\n",
    "\n",
    "### Analysis Approach\n",
    "\n",
    "To conduct the analysis, we will:\n",
    "\n",
    "1. **Collect Data:**\n",
    "   - Gather customer reviews and ratings for each airline on the specified routes, focusing on the years 2022-2023.\n",
    "\n",
    "2. **Segmentation:**\n",
    "   - Segment the data based on airlines, routes, and travel years to facilitate a detailed and targeted analysis.\n",
    "\n",
    "3. **NLP Analysis:**\n",
    "   - Utilize Natural Language Processing (NLP) techniques, including stemming, to analyze and make sense of qualitative comments. This will help extract key themes and sentiments from customer feedback.\n",
    "\n",
    "4. **Quantitative Analysis:**\n",
    "   - Conduct a quantitative analysis of the quantifiable ratings to identify trends and patterns in customer satisfaction.\n",
    "\n",
    "5. **Correlation Analysis:**\n",
    "   - Explore the correlation between quantifiable ratings and the sentiments expressed in comments. This will provide a deeper understanding of how numerical ratings align with qualitative feedback, representing the comments with the quantifiable metrics\n",
    "\n",
    "By approaching the analysis systematically and considering potential biases, we aim to provide a comprehensive and insightful comparison of British Airways and its competitors on the specified routes.\n"
   ]
  },
  {
   "cell_type": "markdown",
   "metadata": {},
   "source": [
    "### **Step 1**"
   ]
  },
  {
   "cell_type": "code",
   "execution_count": 1,
   "metadata": {},
   "outputs": [],
   "source": [
    "import requests\n",
    "from bs4 import BeautifulSoup\n",
    "import pandas as pd"
   ]
  },
  {
   "cell_type": "markdown",
   "metadata": {},
   "source": [
    "British Airways customer service comment and ratings"
   ]
  },
  {
   "cell_type": "code",
   "execution_count": 2,
   "metadata": {},
   "outputs": [
    {
     "data": {
      "text/plain": [
       "<Response [200]>"
      ]
     },
     "execution_count": 2,
     "metadata": {},
     "output_type": "execute_result"
    }
   ],
   "source": [
    "base_url = \"https://www.airlinequality.com/airline-reviews/british-airways\"\n",
    "response = requests.get(base_url)\n",
    "response"
   ]
  },
  {
   "cell_type": "code",
   "execution_count": 46,
   "metadata": {},
   "outputs": [
    {
     "name": "stdout",
     "output_type": "stream",
     "text": [
      "Scraping page 1\n"
     ]
    },
    {
     "ename": "AttributeError",
     "evalue": "'NoneType' object has no attribute 'text'",
     "output_type": "error",
     "traceback": [
      "\u001b[1;31m---------------------------------------------------------------------------\u001b[0m",
      "\u001b[1;31mAttributeError\u001b[0m                            Traceback (most recent call last)",
      "\u001b[1;32m<ipython-input-46-f9490ff82663>\u001b[0m in \u001b[0;36m<module>\u001b[1;34m\u001b[0m\n\u001b[0;32m     45\u001b[0m             \u001b[1;32mif\u001b[0m \u001b[0mtd_tag\u001b[0m\u001b[1;33m.\u001b[0m\u001b[0mtext\u001b[0m\u001b[1;33m.\u001b[0m\u001b[0mstrip\u001b[0m\u001b[1;33m(\u001b[0m\u001b[1;33m)\u001b[0m \u001b[1;33m==\u001b[0m \u001b[1;34m\"Seat Type\"\u001b[0m\u001b[1;33m:\u001b[0m\u001b[1;33m\u001b[0m\u001b[1;33m\u001b[0m\u001b[0m\n\u001b[0;32m     46\u001b[0m                 \u001b[0mseat_td_tag\u001b[0m \u001b[1;33m=\u001b[0m \u001b[0mtd_tag\u001b[0m\u001b[1;33m.\u001b[0m\u001b[0mfind_next_sibling\u001b[0m\u001b[1;33m(\u001b[0m\u001b[1;34m\"td\"\u001b[0m\u001b[1;33m)\u001b[0m\u001b[1;33m\u001b[0m\u001b[1;33m\u001b[0m\u001b[0m\n\u001b[1;32m---> 47\u001b[1;33m                 \u001b[0mseat\u001b[0m \u001b[1;33m=\u001b[0m \u001b[0mseat_td_tag\u001b[0m\u001b[1;33m.\u001b[0m\u001b[0mfind_next_sibling\u001b[0m\u001b[1;33m(\u001b[0m\u001b[1;34m\"td\"\u001b[0m\u001b[1;33m)\u001b[0m\u001b[1;33m.\u001b[0m\u001b[0mtext\u001b[0m\u001b[1;33m.\u001b[0m\u001b[0mstrip\u001b[0m\u001b[1;33m(\u001b[0m\u001b[1;33m)\u001b[0m\u001b[1;32mif\u001b[0m \u001b[0mseat_td_tag\u001b[0m \u001b[1;32melse\u001b[0m \u001b[1;32mNone\u001b[0m\u001b[1;33m\u001b[0m\u001b[1;33m\u001b[0m\u001b[0m\n\u001b[0m\u001b[0;32m     48\u001b[0m                 \u001b[0mdf\u001b[0m\u001b[1;33m=\u001b[0m\u001b[0mdf\u001b[0m\u001b[1;33m.\u001b[0m\u001b[0mappend\u001b[0m\u001b[1;33m(\u001b[0m\u001b[1;33m{\u001b[0m\u001b[1;34m'Seat type'\u001b[0m\u001b[1;33m:\u001b[0m \u001b[0mseat\u001b[0m\u001b[1;33m}\u001b[0m\u001b[1;33m,\u001b[0m \u001b[0mignore_index\u001b[0m\u001b[1;33m=\u001b[0m\u001b[1;32mTrue\u001b[0m\u001b[1;33m)\u001b[0m\u001b[1;33m\u001b[0m\u001b[1;33m\u001b[0m\u001b[0m\n\u001b[0;32m     49\u001b[0m \u001b[1;33m\u001b[0m\u001b[0m\n",
      "\u001b[1;31mAttributeError\u001b[0m: 'NoneType' object has no attribute 'text'"
     ]
    }
   ],
   "source": [
    "import requests\n",
    "from bs4 import BeautifulSoup\n",
    "import pandas as pd\n",
    "\n",
    "pages=20\n",
    "page_size=100\n",
    "base_url = \"https://www.airlinequality.com/airline-reviews/british-airways\"\n",
    "\n",
    "# URL of the webpage\n",
    "for i in range(1, pages + 1):\n",
    "\n",
    "    print(f\"Scraping page {i}\")\n",
    "\n",
    "    # Create URL to collect links from paginated data\n",
    "    url = f\"{base_url}/page/{i}/?sortby=post_date%3ADesc&pagesize={page_size}\"\n",
    "\n",
    "    # Send a GET request to the website\n",
    "    response = requests.get(url)\n",
    "\n",
    "    # Check if the request was successful\n",
    "    if response.status_code == 200:\n",
    "        # Parse the HTML content\n",
    "        soup = BeautifulSoup(response.content, 'html.parser')\n",
    "        \n",
    "        #Route\n",
    "        td_tags = soup.find_all('td')\n",
    "        \n",
    "        df=pd.DataFrame()\n",
    "        \n",
    "        for td_tag in td_tags:\n",
    "        # Check if the text content of the current <td> tag is \"Route\"\n",
    "            if td_tag.text.strip() == 'Route':\n",
    "                \n",
    "                # If \"Route\" is found, get the next <td> tag which contains the route information\n",
    "                route_td_tag = td_tag.find_next_sibling('td', class_='review-value')\n",
    "                \n",
    "                # Extract the text content of the <td> tag\n",
    "                route = route_td_tag.text.strip()\n",
    "                \n",
    "                # Append the extracted route to DataFrame (assuming df has been initialized beforehand)\n",
    "                df = df.append({'Route': route}, ignore_index=True)\n",
    "        \n",
    "for td_tag in td_tags:\n",
    "    if td_tag.text.strip() == \"Seat Type\":\n",
    "        seat_type_label_tag = td_tag.find_next_sibling(\"td\", class_='review-rating-header cabin_flown')\n",
    "        \n",
    "        # Check if the next sibling exists before accessing its text attribute\n",
    "        if seat_type_label_tag:\n",
    "            seat_type_val_tag = seat_type_label_tag.find_next_sibling(\"td\")\n",
    "            seat_type = seat_type_val_tag.text.strip() if seat_type_val_tag else None\n",
    "            df = df.append({'Seat type': seat_type}, ignore_index=True)\n",
    "        else:\n",
    "            # Handle the case where the next sibling is not found\n",
    "            print(\"Seat Type information not found.\")\n",
    "                \n",
    "                \n",
    "                "
   ]
  },
  {
   "cell_type": "code",
   "execution_count": 38,
   "metadata": {},
   "outputs": [
    {
     "name": "stdout",
     "output_type": "stream",
     "text": [
      "Scraping page 1\n"
     ]
    },
    {
     "name": "stderr",
     "output_type": "stream",
     "text": [
      "<ipython-input-38-48072c76d244>:31: DeprecationWarning: The 'text' argument to find()-type methods is deprecated. Use 'string' instead.\n",
      "  td_tags_comfort = parsed_content.find(\"td\", class_=\"review-rating-header\", text=\"Seat Comfort\")\n"
     ]
    },
    {
     "name": "stdout",
     "output_type": "stream",
     "text": [
      "Scraping page 2\n",
      "Scraping page 3\n",
      "Scraping page 4\n",
      "Scraping page 5\n",
      "Scraping page 6\n",
      "Scraping page 7\n",
      "Scraping page 8\n",
      "Scraping page 9\n",
      "Scraping page 10\n",
      "Scraping page 11\n",
      "Scraping page 12\n",
      "Scraping page 13\n",
      "Scraping page 14\n",
      "Scraping page 15\n"
     ]
    }
   ],
   "source": [
    "# Import necessary modules\n",
    "import requests\n",
    "from bs4 import BeautifulSoup\n",
    "import pandas as pd\n",
    "\n",
    "base_url = \"https://www.airlinequality.com/airline-reviews/british-airways\"\n",
    "pages = 15\n",
    "page_size = 100\n",
    "\n",
    "df = pd.DataFrame()\n",
    "\n",
    "for i in range(1, pages + 1):\n",
    "    print(f\"Scraping page {i}\")\n",
    "\n",
    "    # Create URL to collect links from paginated data\n",
    "    url = f\"{base_url}/page/{i}/?sortby=post_date%3ADesc&pagesize={page_size}\"\n",
    "\n",
    "    # Collect HTML data from this page\n",
    "    response = requests.get(url)\n",
    "\n",
    "    # Parse content\n",
    "    content = response.content\n",
    "    parsed_content = BeautifulSoup(content, 'html.parser')\n",
    "    # Find all <td> tags with class \"review-rating-header cabin_flown\"\n",
    "    td_tags_cabin_flown = parsed_content.find_all('td', class_='review-rating-header cabin_flown')\n",
    "    td_tags_route=parsed_content.find_all(\"td\", class_=\"review-rating-header route\")\n",
    "    td_tags_traveller=parsed_content.find_all(\"td\", class_=\"review-rating-header type_of_traveller\")\n",
    "    td_tags_date=parsed_content.find_all(\"td\", class_=\"review-rating-header date_flown\")\n",
    "    td_text_context=parsed_content.find_all(\"div\", {\"class\": \"text_content\"})\n",
    "    td_tags_recommend = parsed_content.find_all(\"td\", class_=\"review-rating-header recommended\")\n",
    "    td_tags_comfort = parsed_content.find(\"td\", class_=\"review-rating-header\", text=\"Seat Comfort\")\n",
    "\n",
    "    for index, td_element in enumerate(td_tags_cabin_flown):\n",
    "        # Handle td_tags_cabin_flown\n",
    "        seat_type_td_tag = td_element.find_next_sibling('td', class_='review-value')\n",
    "        seat_type = seat_type_td_tag.text.strip()\n",
    "        df.at[index, \"Seat Type\"] = seat_type\n",
    "\n",
    "    for index, td_element in enumerate(td_tags_route):\n",
    "        # Handle td_tags_route\n",
    "        route_td_tag = td_element.find_next_sibling(\"td\", class_=\"review-value\")\n",
    "        route = route_td_tag.text.strip()\n",
    "        df.at[index, \"Route\"] = route\n",
    "\n",
    "    for index, td_element in enumerate(td_tags_traveller):\n",
    "        traveller_td_tag = td_element.find_next_sibling(\"td\", class_=\"review-value\")\n",
    "        traveller_type = traveller_td_tag.text.strip()\n",
    "        df.at[index, \"Type of Traveller\"] = traveller_type\n",
    "\n",
    "    for index, td_element in enumerate(td_tags_date):\n",
    "        date_td_tag = td_element.find_next_sibling(\"td\", class_=\"review-value\")\n",
    "        date_flown = date_td_tag.text.strip()\n",
    "        df.at[index, \"Date flown\"] = date_flown\n",
    "            \n",
    "    for index, td_elem in enumerate (td_tags_recommend):\n",
    "        recommendation_val_elem = td_elem.find_next_sibling(\"td\", class_=\"review-value\")\n",
    "        if \"rating-no\" in recommendation_val_elem[\"class\"]:\n",
    "            df.at[index, \"Reccomend\"]= 0\n",
    "        else:\n",
    "            df.at[index, \"Reccomend\"]= 1\n",
    "            \n",
    "    for index, td_comfort_rat in enumerate(td_tags_comfort):\n",
    "        c = 0\n",
    "        star_elem = td_comfort_rat.find_next_sibling(\"td\", class_=\"review-rating-stars\")\n",
    "        for cl in star_elem.find_all(\"span\", class_=\"star fill\"):\n",
    "                c += 1\n",
    "        df.at[index, \"Comfort rating\"] = c\n",
    "\n",
    "    \n",
    "    for index, text in enumerate(td_text_context):\n",
    "        df.at[index, \"Comment\"] = text.get_text()\n",
    "            \n",
    "\n",
    "    "
   ]
  },
  {
   "cell_type": "code",
   "execution_count": 41,
   "metadata": {},
   "outputs": [],
   "source": [
    "#put inside a csv format to make it easier to read\n",
    "df.to_csv('scrape_airtrax.csv', index=False)"
   ]
  },
  {
   "cell_type": "code",
   "execution_count": 39,
   "metadata": {},
   "outputs": [
    {
     "name": "stdout",
     "output_type": "stream",
     "text": [
      "         Seat Type                            Route Type of Traveller  \\\n",
      "0    Economy Class         Dubai to London Heathrow      Solo Leisure   \n",
      "1    Economy Class  New York to Budapest via London      Solo Leisure   \n",
      "2    Economy Class  Tokyo Narita to London Heathrow      Solo Leisure   \n",
      "3    Economy Class       Hamburg to London Heathrow    Couple Leisure   \n",
      "4    Economy Class                   London to Pisa    Family Leisure   \n",
      "..             ...                              ...               ...   \n",
      "95   Economy Class           Grand Cayman to London      Solo Leisure   \n",
      "96   Economy Class       Sydney to Paris via London    Couple Leisure   \n",
      "97   Economy Class       Larnaca to London Heathrow    Couple Leisure   \n",
      "98  Business Class               Funchal to Gatwick    Couple Leisure   \n",
      "99   Economy Class               Orlando to Gatwick    Family Leisure   \n",
      "\n",
      "        Date flown  Reccomend  Comfort rating  \\\n",
      "0    December 2017        0.0             0.0   \n",
      "1    December 2017        0.0             NaN   \n",
      "2    December 2017        0.0             NaN   \n",
      "3        June 2017        0.0             NaN   \n",
      "4     October 2017        0.0             NaN   \n",
      "..             ...        ...             ...   \n",
      "95  September 2017        0.0             NaN   \n",
      "96  September 2017        0.0             NaN   \n",
      "97    October 2017        1.0             NaN   \n",
      "98    October 2017        0.0             NaN   \n",
      "99  September 2017        1.0             NaN   \n",
      "\n",
      "                                              Comment  \n",
      "0   ✅ Trip Verified | Flew British Airways from Du...  \n",
      "1   ✅ Trip Verified | I was on a flight from New Y...  \n",
      "2   ✅ Trip Verified | Flew Tokyo Narita to London ...  \n",
      "3   ✅ Trip Verified | I was quite disappointed wit...  \n",
      "4   ✅ Trip Verified | Flew British Airways to Pisa...  \n",
      "..                                                ...  \n",
      "95  ✅ Verified Review |  Grand Cayman to London. I...  \n",
      "96  ✅ Verified Review |  Sydney to Paris via Londo...  \n",
      "97  ✅ Verified Review |  Larnaca to London Heathro...  \n",
      "98  ✅ Verified Review |  Funchal to Gatwick. Due t...  \n",
      "99  ✅ Verified Review |  Orlando to Gatwick. The s...  \n",
      "\n",
      "[100 rows x 7 columns]\n"
     ]
    }
   ],
   "source": [
    "print(df)"
   ]
  }
 ],
 "metadata": {
  "kernelspec": {
   "display_name": "Python 3",
   "language": "python",
   "name": "python3"
  },
  "language_info": {
   "codemirror_mode": {
    "name": "ipython",
    "version": 3
   },
   "file_extension": ".py",
   "mimetype": "text/x-python",
   "name": "python",
   "nbconvert_exporter": "python",
   "pygments_lexer": "ipython3",
   "version": "3.8.5"
  }
 },
 "nbformat": 4,
 "nbformat_minor": 2
}
