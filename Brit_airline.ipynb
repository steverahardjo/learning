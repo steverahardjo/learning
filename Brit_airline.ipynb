{
 "cells": [
  {
   "cell_type": "markdown",
   "metadata": {},
   "source": [
    "# Report"
   ]
  },
  {
   "cell_type": "markdown",
   "metadata": {},
   "source": [
    "## Comparative Report between British Airways and competing airlines of 3 BA Most Profitable Routes. "
   ]
  },
  {
   "cell_type": "markdown",
   "metadata": {},
   "source": [
    "### Introduction\n",
    "\n",
    "In this analysis, we aim to compare British Airways (BA) with its main competitors on three popular international routes: JFK, Dubai, and Hong Kong, based on 2022 data. The identified main competitors for these routes are American Airlines, Emirati Airline, and Cathay Pacific Airlines. To ensure a uniform analysis, I decide to only take into account the economy class reviews.\n",
    "\n",
    "### Identified Metrics\n",
    "\n",
    "Two key metrics will be considered in this comparative analysis:\n",
    "\n",
    "1. **Customer Service Comments and Quantifiable Rating:**\n",
    "   - We will analyze customer reviews and ratings related to customer service. This will involve considering both qualitative comments and quantifiable ratings provided by passengers.\n",
    "\n",
    "2. **Pricing:**\n",
    "   - The pricing strategy of each airline will be assessed. This includes examining the affordability and value for money perceived by customers.\n",
    "\n",
    "### Review Limitations and Caveats\n",
    "\n",
    "It's crucial to acknowledge and address potential biases and limitations in the review data:\n",
    "\n",
    "1. **Negativity Bias:**\n",
    "   - Recognize that dissatisfied customers may be more inclined to leave reviews. This negativity bias could skew the representation of the overall customer experience. To mitigate this, we will attempt to extract insights from a diverse range of reviews.\n",
    "\n",
    "2. **Incomplete Representation:**\n",
    "   - Acknowledge that online reviews may not provide a comprehensive view of the passenger experience. Some satisfied customers may not leave reviews, leading to an incomplete representation. We will attempt to account for this limitation by considering multiple sources and trends over time.\n",
    "\n",
    "### Analysis Approach\n",
    "\n",
    "To conduct the analysis, we will:\n",
    "\n",
    "1. **Collect Data:**\n",
    "   - Gather customer reviews and ratings for each airline on the specified routes, focusing on the years 2022-2023.\n",
    "\n",
    "2. **Segmentation:**\n",
    "   - Segment the data based on airlines, routes, and travel years to facilitate a detailed and targeted analysis.\n",
    "\n",
    "3. **Quantitative Analysis:**\n",
    "   - Conduct a quantitative analysis of the quantifiable ratings to identify trends and patterns in customer satisfaction.\n",
    "\n",
    "4. **NLP Analysis:**\n",
    "   - Utilize Natural Language Processing (NLP) techniques, including stemming, to analyze and make sense of qualitative comments. This will help extract key themes and sentiments from customer feedback.\n",
    "\n",
    "5. **Correlation Analysis:**\n",
    "   - Explore the correlation between quantifiable ratings and the sentiments expressed in comments. This will provide a deeper understanding of how numerical ratings align with qualitative feedback, representing the comments with the quantifiable metrics\n",
    "\n",
    "By approaching the analysis systematically and considering potential biases, we aim to provide a comprehensive and insightful comparison of British Airways and its competitors on the specified routes.\n"
   ]
  },
  {
   "cell_type": "markdown",
   "metadata": {},
   "source": [
    "### **Step 1 & 2**"
   ]
  },
  {
   "cell_type": "code",
   "execution_count": 61,
   "metadata": {},
   "outputs": [],
   "source": [
    "# Import necessary modules\n",
    "import requests\n",
    "from bs4 import BeautifulSoup\n",
    "import pandas as pd"
   ]
  },
  {
   "cell_type": "markdown",
   "metadata": {},
   "source": [
    "First, we need to scrape British Airways review data and their comment posted in the Skystrax platform.\n",
    "the data will be divided into:\n",
    "1. Name (string)\n",
    "2. Type of seat flown (categorical)\n",
    "3. Routes taken (string)\n",
    "4. Date flown (datetime)\n",
    "5. Comment (string)"
   ]
  },
  {
   "cell_type": "code",
   "execution_count": 62,
   "metadata": {},
   "outputs": [
    {
     "name": "stdout",
     "output_type": "stream",
     "text": [
      "Scraping page 1\n",
      "Scraping page 2\n",
      "Scraping page 3\n",
      "Scraping page 4\n",
      "Scraping page 5\n",
      "Scraping page 6\n",
      "Scraping page 7\n",
      "Scraping page 8\n",
      "Scraping page 9\n",
      "Scraping page 10\n",
      "Scraping page 11\n",
      "Scraping page 12\n",
      "Scraping page 13\n",
      "Scraping page 14\n",
      "Scraping page 15\n"
     ]
    }
   ],
   "source": [
    "base_url = \"https://www.airlinequality.com/airline-reviews/british-airways/\"\n",
    "pages = 15\n",
    "page_size = 200\n",
    "\n",
    "df = pd.DataFrame()\n",
    "\n",
    "for i in range(1, pages + 1):\n",
    "    print(f\"Scraping page {i}\")\n",
    "\n",
    "    # Create URL to collect links from paginated data\n",
    "    url = f\"{base_url}/page/{i}/?sortby=post_date%3ADesc&pagesize={page_size}\"\n",
    "\n",
    "    # Collect HTML data from this page\n",
    "    response = requests.get(url)\n",
    "\n",
    "    # Parse content\n",
    "    content = response.content\n",
    "    parsed_content = BeautifulSoup(content, 'html.parser')\n",
    "    \n",
    "    # Find all <td> tags with class \"review-rating-header cabin_flown\"\n",
    "    td_tags_name=parsed_content.find_all(\"span\", itemprop=\"name\")\n",
    "    td_tags_cabin_flown = parsed_content.find_all('td', class_='review-rating-header cabin_flown')\n",
    "    td_tags_route=parsed_content.find_all(\"td\", class_=\"review-rating-header route\")\n",
    "    td_tags_traveller=parsed_content.find_all(\"td\", class_=\"review-rating-header type_of_traveller\")\n",
    "    td_tags_date=parsed_content.find_all(\"td\", class_=\"review-rating-header date_flown\")\n",
    "    td_text_context=parsed_content.find_all(\"div\", {\"class\": \"text_content\"})\n",
    "    td_tags_recommend = parsed_content.find_all(\"td\", class_=\"review-rating-header recommended\")\n",
    "    \n",
    "    for index, tag_name in enumerate(td_tags_name):\n",
    "        name=tag_name.text.strip()\n",
    "        df.at[index, \"Name\"]= name\n",
    "\n",
    "    for index, td_element in enumerate(td_tags_cabin_flown):\n",
    "        # Handle td_tags_cabin_flown\n",
    "        seat_type_td_tag = td_element.find_next_sibling('td', class_='review-value')\n",
    "        seat_type = seat_type_td_tag.text.strip()\n",
    "        df.at[index, \"Seat Type\"] = seat_type\n",
    "\n",
    "    for index, td_element in enumerate(td_tags_route):\n",
    "        # Handle td_tags_route\n",
    "        route_td_tag = td_element.find_next_sibling(\"td\", class_=\"review-value\")\n",
    "        route = route_td_tag.text.strip()\n",
    "        df.at[index, \"Route\"] = route\n",
    "\n",
    "    for index, td_element in enumerate(td_tags_traveller):\n",
    "        traveller_td_tag = td_element.find_next_sibling(\"td\", class_=\"review-value\")\n",
    "        traveller_type = traveller_td_tag.text.strip()\n",
    "        df.at[index, \"Type of Traveller\"] = traveller_type\n",
    "\n",
    "    for index, td_element in enumerate(td_tags_date):\n",
    "        date_td_tag = td_element.find_next_sibling(\"td\", class_=\"review-value\")\n",
    "        date_flown = date_td_tag.text.strip()\n",
    "        df.at[index, \"Date flown\"] = date_flown\n",
    "            \n",
    "    for index, td_elem in enumerate (td_tags_recommend):\n",
    "        recommendation_val_elem = td_elem.find_next_sibling(\"td\", class_=\"review-value\")\n",
    "        if \"rating-no\" in recommendation_val_elem[\"class\"]:\n",
    "            df.at[index, \"Reccomend\"]= True\n",
    "        else:\n",
    "            df.at[index, \"Reccomend\"]= False\n",
    "\n",
    "    \n",
    "    for index, text in enumerate(td_text_context):\n",
    "        df.at[index, \"Comment\"] = text.get_text()\n",
    "            \n",
    "\n",
    "    "
   ]
  },
  {
   "cell_type": "code",
   "execution_count": 63,
   "metadata": {},
   "outputs": [
    {
     "name": "stdout",
     "output_type": "stream",
     "text": [
      "                  Name        Seat Type                         Route  \\\n",
      "0        Roger Tilling   Business Class                    LHR to PEK   \n",
      "1    Jeremy Ferendinos    Economy Class  Cape Town to London Heathrow   \n",
      "2           Jeremy Fry   Business Class        London to New York JFK   \n",
      "3        Alan Thompson   Business Class   Glasgow to New York via LHR   \n",
      "4         Susan Dennis   Business Class      Heathrow to Johannesburg   \n",
      "..                 ...              ...                           ...   \n",
      "195  Conrad Winchester    Economy Class     JFK to Manchester via LHR   \n",
      "196          Sean Kyte  Premium Economy          Gatwick to Barcelona   \n",
      "197            D Evans    Economy Class                  Dubai to LHR   \n",
      "198        George Ling  Premium Economy                Rome to London   \n",
      "199       Peter Gordon      First Class             Bangkok to London   \n",
      "\n",
      "    Type of Traveller      Date flown Reccomend  \\\n",
      "0            Business     August 2015      True   \n",
      "1      Family Leisure     August 2015      True   \n",
      "2            Business  September 2015      True   \n",
      "3      Couple Leisure     August 2015      True   \n",
      "4      Couple Leisure     August 2015     False   \n",
      "..                ...             ...       ...   \n",
      "195    Family Leisure     August 2015      True   \n",
      "196          Business  September 2015     False   \n",
      "197      Solo Leisure  September 2015      True   \n",
      "198    Couple Leisure     August 2015      True   \n",
      "199          Business  September 2015     False   \n",
      "\n",
      "                                               Comment  \n",
      "0    British Airways flight was delayed due to a fu...  \n",
      "1    Absolutely disgusted, delayed by 45 min with n...  \n",
      "2    London to New York JFK is the most profitable ...  \n",
      "3    Compared to the likes of EVA Air or Qatar Airw...  \n",
      "4    Excellent British Airways flight from Heathrow...  \n",
      "..                                                 ...  \n",
      "195  BA006 19th May 2015. Awful premium economy ser...  \n",
      "196  Flew Eurotraveller Heathrow to Athens and back...  \n",
      "197  Flew from Heathrow to San Francisco on May 1st...  \n",
      "198  Flew to Tampa from Gatwick on the 12/5/15 retu...  \n",
      "199  LHR-YYZ in World Traveller Plus (upgrade) in a...  \n",
      "\n",
      "[200 rows x 7 columns]\n"
     ]
    }
   ],
   "source": [
    "print(df)"
   ]
  },
  {
   "cell_type": "code",
   "execution_count": 64,
   "metadata": {},
   "outputs": [],
   "source": [
    "i=0\n",
    "lst=[]\n",
    "for route in df[\"Route\"]:\n",
    "    s=\"\"\n",
    "    for r in route:\n",
    "        if r == \"-\":\n",
    "            r= \" to \"\n",
    "        s+=r\n",
    "    lst.append(s)\n",
    "df[\"Route\"]=lst\n"
   ]
  },
  {
   "cell_type": "code",
   "execution_count": 65,
   "metadata": {},
   "outputs": [],
   "source": [
    "s=df[\"Route\"]\n",
    "depart=[]\n",
    "destin=[]\n",
    "for route in s:\n",
    "    r=route.split(\" to \")\n",
    "    depart.append(r[0])\n",
    "    destin.append(r[:-1])\n",
    "df[\"Departure\"]=depart\n",
    "df[\"Destination\"]=destin    "
   ]
  },
  {
   "cell_type": "code",
   "execution_count": 66,
   "metadata": {},
   "outputs": [
    {
     "data": {
      "text/html": [
       "<div>\n",
       "<style scoped>\n",
       "    .dataframe tbody tr th:only-of-type {\n",
       "        vertical-align: middle;\n",
       "    }\n",
       "\n",
       "    .dataframe tbody tr th {\n",
       "        vertical-align: top;\n",
       "    }\n",
       "\n",
       "    .dataframe thead th {\n",
       "        text-align: right;\n",
       "    }\n",
       "</style>\n",
       "<table border=\"1\" class=\"dataframe\">\n",
       "  <thead>\n",
       "    <tr style=\"text-align: right;\">\n",
       "      <th></th>\n",
       "      <th>Name</th>\n",
       "      <th>Seat Type</th>\n",
       "      <th>Type of Traveller</th>\n",
       "      <th>Date flown</th>\n",
       "      <th>Reccomend</th>\n",
       "      <th>Departure</th>\n",
       "      <th>Destination</th>\n",
       "      <th>Comment</th>\n",
       "    </tr>\n",
       "  </thead>\n",
       "  <tbody>\n",
       "    <tr>\n",
       "      <th>0</th>\n",
       "      <td>Roger Tilling</td>\n",
       "      <td>Business Class</td>\n",
       "      <td>Business</td>\n",
       "      <td>2015-08-01</td>\n",
       "      <td>True</td>\n",
       "      <td>LHR</td>\n",
       "      <td>[LHR]</td>\n",
       "      <td>British Airways flight was delayed due to a fu...</td>\n",
       "    </tr>\n",
       "    <tr>\n",
       "      <th>1</th>\n",
       "      <td>Jeremy Ferendinos</td>\n",
       "      <td>Economy Class</td>\n",
       "      <td>Family Leisure</td>\n",
       "      <td>2015-08-01</td>\n",
       "      <td>True</td>\n",
       "      <td>Cape Town</td>\n",
       "      <td>[Cape Town]</td>\n",
       "      <td>Absolutely disgusted, delayed by 45 min with n...</td>\n",
       "    </tr>\n",
       "    <tr>\n",
       "      <th>2</th>\n",
       "      <td>Jeremy Fry</td>\n",
       "      <td>Business Class</td>\n",
       "      <td>Business</td>\n",
       "      <td>2015-09-01</td>\n",
       "      <td>True</td>\n",
       "      <td>London</td>\n",
       "      <td>[London]</td>\n",
       "      <td>London to New York JFK is the most profitable ...</td>\n",
       "    </tr>\n",
       "    <tr>\n",
       "      <th>3</th>\n",
       "      <td>Alan Thompson</td>\n",
       "      <td>Business Class</td>\n",
       "      <td>Couple Leisure</td>\n",
       "      <td>2015-08-01</td>\n",
       "      <td>True</td>\n",
       "      <td>Glasgow</td>\n",
       "      <td>[Glasgow]</td>\n",
       "      <td>Compared to the likes of EVA Air or Qatar Airw...</td>\n",
       "    </tr>\n",
       "    <tr>\n",
       "      <th>4</th>\n",
       "      <td>Susan Dennis</td>\n",
       "      <td>Business Class</td>\n",
       "      <td>Couple Leisure</td>\n",
       "      <td>2015-08-01</td>\n",
       "      <td>False</td>\n",
       "      <td>Heathrow</td>\n",
       "      <td>[Heathrow]</td>\n",
       "      <td>Excellent British Airways flight from Heathrow...</td>\n",
       "    </tr>\n",
       "    <tr>\n",
       "      <th>...</th>\n",
       "      <td>...</td>\n",
       "      <td>...</td>\n",
       "      <td>...</td>\n",
       "      <td>...</td>\n",
       "      <td>...</td>\n",
       "      <td>...</td>\n",
       "      <td>...</td>\n",
       "      <td>...</td>\n",
       "    </tr>\n",
       "    <tr>\n",
       "      <th>195</th>\n",
       "      <td>Conrad Winchester</td>\n",
       "      <td>Economy Class</td>\n",
       "      <td>Family Leisure</td>\n",
       "      <td>2015-08-01</td>\n",
       "      <td>True</td>\n",
       "      <td>JFK</td>\n",
       "      <td>[JFK]</td>\n",
       "      <td>BA006 19th May 2015. Awful premium economy ser...</td>\n",
       "    </tr>\n",
       "    <tr>\n",
       "      <th>196</th>\n",
       "      <td>Sean Kyte</td>\n",
       "      <td>Premium Economy</td>\n",
       "      <td>Business</td>\n",
       "      <td>2015-09-01</td>\n",
       "      <td>False</td>\n",
       "      <td>Gatwick</td>\n",
       "      <td>[Gatwick]</td>\n",
       "      <td>Flew Eurotraveller Heathrow to Athens and back...</td>\n",
       "    </tr>\n",
       "    <tr>\n",
       "      <th>197</th>\n",
       "      <td>D Evans</td>\n",
       "      <td>Economy Class</td>\n",
       "      <td>Solo Leisure</td>\n",
       "      <td>2015-09-01</td>\n",
       "      <td>True</td>\n",
       "      <td>Dubai</td>\n",
       "      <td>[Dubai]</td>\n",
       "      <td>Flew from Heathrow to San Francisco on May 1st...</td>\n",
       "    </tr>\n",
       "    <tr>\n",
       "      <th>198</th>\n",
       "      <td>George Ling</td>\n",
       "      <td>Premium Economy</td>\n",
       "      <td>Couple Leisure</td>\n",
       "      <td>2015-08-01</td>\n",
       "      <td>True</td>\n",
       "      <td>Rome</td>\n",
       "      <td>[Rome]</td>\n",
       "      <td>Flew to Tampa from Gatwick on the 12/5/15 retu...</td>\n",
       "    </tr>\n",
       "    <tr>\n",
       "      <th>199</th>\n",
       "      <td>Peter Gordon</td>\n",
       "      <td>First Class</td>\n",
       "      <td>Business</td>\n",
       "      <td>2015-09-01</td>\n",
       "      <td>False</td>\n",
       "      <td>Bangkok</td>\n",
       "      <td>[Bangkok]</td>\n",
       "      <td>LHR-YYZ in World Traveller Plus (upgrade) in a...</td>\n",
       "    </tr>\n",
       "  </tbody>\n",
       "</table>\n",
       "<p>200 rows × 8 columns</p>\n",
       "</div>"
      ],
      "text/plain": [
       "                  Name        Seat Type Type of Traveller Date flown  \\\n",
       "0        Roger Tilling   Business Class          Business 2015-08-01   \n",
       "1    Jeremy Ferendinos    Economy Class    Family Leisure 2015-08-01   \n",
       "2           Jeremy Fry   Business Class          Business 2015-09-01   \n",
       "3        Alan Thompson   Business Class    Couple Leisure 2015-08-01   \n",
       "4         Susan Dennis   Business Class    Couple Leisure 2015-08-01   \n",
       "..                 ...              ...               ...        ...   \n",
       "195  Conrad Winchester    Economy Class    Family Leisure 2015-08-01   \n",
       "196          Sean Kyte  Premium Economy          Business 2015-09-01   \n",
       "197            D Evans    Economy Class      Solo Leisure 2015-09-01   \n",
       "198        George Ling  Premium Economy    Couple Leisure 2015-08-01   \n",
       "199       Peter Gordon      First Class          Business 2015-09-01   \n",
       "\n",
       "    Reccomend  Departure  Destination  \\\n",
       "0        True        LHR        [LHR]   \n",
       "1        True  Cape Town  [Cape Town]   \n",
       "2        True     London     [London]   \n",
       "3        True    Glasgow    [Glasgow]   \n",
       "4       False   Heathrow   [Heathrow]   \n",
       "..        ...        ...          ...   \n",
       "195      True        JFK        [JFK]   \n",
       "196     False    Gatwick    [Gatwick]   \n",
       "197      True      Dubai      [Dubai]   \n",
       "198      True       Rome       [Rome]   \n",
       "199     False    Bangkok    [Bangkok]   \n",
       "\n",
       "                                               Comment  \n",
       "0    British Airways flight was delayed due to a fu...  \n",
       "1    Absolutely disgusted, delayed by 45 min with n...  \n",
       "2    London to New York JFK is the most profitable ...  \n",
       "3    Compared to the likes of EVA Air or Qatar Airw...  \n",
       "4    Excellent British Airways flight from Heathrow...  \n",
       "..                                                 ...  \n",
       "195  BA006 19th May 2015. Awful premium economy ser...  \n",
       "196  Flew Eurotraveller Heathrow to Athens and back...  \n",
       "197  Flew from Heathrow to San Francisco on May 1st...  \n",
       "198  Flew to Tampa from Gatwick on the 12/5/15 retu...  \n",
       "199  LHR-YYZ in World Traveller Plus (upgrade) in a...  \n",
       "\n",
       "[200 rows x 8 columns]"
      ]
     },
     "execution_count": 66,
     "metadata": {},
     "output_type": "execute_result"
    }
   ],
   "source": [
    "#format the datetime from string into an actual datetime\n",
    "df[\"Date flown\"] = pd.to_datetime(df[\"Date flown\"], format=\"%B %Y\")\n",
    "df.sort_values(by=\"Date flown\", ascending=True)\n",
    "new_column_order = ['Name', 'Seat Type', 'Type of Traveller', 'Date flown', 'Reccomend', 'Departure', 'Destination', 'Comment']\n",
    "df = df[new_column_order]\n",
    "df\n"
   ]
  },
  {
   "cell_type": "markdown",
   "metadata": {},
   "source": [
    "# Quantative Analysis\n",
    "We need to do some simple quantitive analysis based on the integer data we already have and visualize it using graphs appropriate for the situation."
   ]
  },
  {
   "cell_type": "code",
   "execution_count": 67,
   "metadata": {},
   "outputs": [],
   "source": [
    "import matplotlib.pyplot as plt"
   ]
  },
  {
   "cell_type": "code",
   "execution_count": 68,
   "metadata": {},
   "outputs": [
    {
     "data": {
      "text/plain": [
       "A Ray                 5\n",
       "James Williamson      4\n",
       "Clive Drake           4\n",
       "Bob Motto             4\n",
       "John Duffus           3\n",
       "                     ..\n",
       "Steve Pilibbossian    1\n",
       "Steve Gatenby         1\n",
       "A Ahmed               1\n",
       "J Harrison            1\n",
       "Marcus Hoellrich      1\n",
       "Name: Name, Length: 169, dtype: int64"
      ]
     },
     "execution_count": 68,
     "metadata": {},
     "output_type": "execute_result"
    }
   ],
   "source": [
    "df[\"Name\"].value_counts()"
   ]
  },
  {
   "cell_type": "code",
   "execution_count": 69,
   "metadata": {},
   "outputs": [
    {
     "data": {
      "text/plain": [
       "2015-08-01    68\n",
       "2015-07-01    53\n",
       "2015-06-01    38\n",
       "2015-05-01    15\n",
       "2015-09-01    14\n",
       "2015-04-01     3\n",
       "2014-09-01     2\n",
       "2014-11-01     2\n",
       "2014-07-01     1\n",
       "2014-08-01     1\n",
       "2014-10-01     1\n",
       "2015-03-01     1\n",
       "2014-12-01     1\n",
       "Name: Date flown, dtype: int64"
      ]
     },
     "execution_count": 69,
     "metadata": {},
     "output_type": "execute_result"
    }
   ],
   "source": [
    "#count how many review for the month & year they flown\n",
    "df[\"Date flown\"].value_counts()"
   ]
  },
  {
   "cell_type": "code",
   "execution_count": 70,
   "metadata": {},
   "outputs": [
    {
     "data": {
      "text/plain": [
       "True     112\n",
       "False     88\n",
       "Name: Reccomend, dtype: int64"
      ]
     },
     "execution_count": 70,
     "metadata": {},
     "output_type": "execute_result"
    }
   ],
   "source": [
    "#count how many reviewer reccomend British Airline\n",
    "df[\"Reccomend\"].value_counts()"
   ]
  },
  {
   "cell_type": "markdown",
   "metadata": {},
   "source": [
    "#### Reccomended and Date Flown\n",
    "Analyze the reccomendation and compared it with when the reviewer take the flight.\n",
    "By doing this, we can recognize in which month reviewer travelled the most for 13 months between 2015-2016. We can see the correlation between the number of traveller with good review or reccomended and bad review or not reccomended."
   ]
  },
  {
   "cell_type": "code",
   "execution_count": 71,
   "metadata": {},
   "outputs": [],
   "source": [
    "group_reccom_date = df.groupby(pd.Grouper(key=\"Date flown\"))[\"Reccomend\"].value_counts()"
   ]
  },
  {
   "cell_type": "code",
   "execution_count": 72,
   "metadata": {},
   "outputs": [
    {
     "data": {
      "image/png": "[encoded data removed]",
      "text/plain": [
       "<Figure size 720x432 with 1 Axes>"
      ]
     },
     "metadata": {
      "needs_background": "light"
     },
     "output_type": "display_data"
    }
   ],
   "source": [
    "group_reccom_date = group_reccom_date.reset_index(name='count')\n",
    "# Pivot the DataFrame\n",
    "pivot_df = group_reccom_date.pivot(index='Date flown', columns='Reccomend', values='count').fillna(0)\n",
    "\n",
    "# Plotting\n",
    "pivot_df.plot(kind='bar', stacked=False, figsize=(10, 6))\n",
    "\n",
    "\n",
    "\n",
    "# Adding labels and title\n",
    "plt.xlabel('Date flown')\n",
    "plt.ylabel('Count')\n",
    "plt.title('Recommendation Counts by Date flown')\n",
    "\n",
    "# Show plot\n",
    "plt.xticks(rotation=90)\n",
    "plt.tight_layout()\n",
    "plt.legend(title='Recommended')\n",
    "plt.show()"
   ]
  },
  {
   "cell_type": "markdown",
   "metadata": {},
   "source": [
    "We can see from this bar plot we can see that in the year 2015-2016, the amount of passenger and review start to ramp up in May and peaking at August 2016,\n",
    "the more reviewer don't reccomend British Airways, this may can indicate as quantity increased, the level of service decrease, edning up with amount of not reccomended boolean increase eventhough the staff can picked it up and increase the level of overall service, resuting in the outcome of True more than False when peaking in August."
   ]
  },
  {
   "cell_type": "markdown",
   "metadata": {},
   "source": [
    "#### Seat Type and Type of Traveller"
   ]
  },
  {
   "cell_type": "code",
   "execution_count": 73,
   "metadata": {},
   "outputs": [
    {
     "data": {
      "text/plain": [
       "Economy Class      102\n",
       "Business Class      74\n",
       "First Class         14\n",
       "Premium Economy     10\n",
       "Name: Seat Type, dtype: int64"
      ]
     },
     "execution_count": 73,
     "metadata": {},
     "output_type": "execute_result"
    }
   ],
   "source": [
    "df[\"Seat Type\"].value_counts()"
   ]
  },
  {
   "cell_type": "code",
   "execution_count": 74,
   "metadata": {},
   "outputs": [
    {
     "data": {
      "text/plain": [
       "Couple Leisure    55\n",
       "Solo Leisure      54\n",
       "Business          51\n",
       "Family Leisure    40\n",
       "Name: Type of Traveller, dtype: int64"
      ]
     },
     "execution_count": 74,
     "metadata": {},
     "output_type": "execute_result"
    }
   ],
   "source": [
    "df[\"Type of Traveller\"].value_counts()"
   ]
  },
  {
   "cell_type": "code",
   "execution_count": 75,
   "metadata": {},
   "outputs": [],
   "source": [
    "group= df.groupby(['Type of Traveller', 'Seat Type']).size()"
   ]
  },
  {
   "cell_type": "code",
   "execution_count": 76,
   "metadata": {},
   "outputs": [
    {
     "data": {
      "image/png": "[encoded data removed]",
      "text/plain": [
       "<Figure size 1080x720 with 4 Axes>"
      ]
     },
     "metadata": {},
     "output_type": "display_data"
    },
    {
     "data": {
      "text/plain": [
       "Type of Traveller  Seat Type      \n",
       "Business           Business Class     28\n",
       "                   Economy Class      15\n",
       "                   First Class         6\n",
       "                   Premium Economy     2\n",
       "Couple Leisure     Business Class     22\n",
       "                   Economy Class      26\n",
       "                   First Class         2\n",
       "                   Premium Economy     5\n",
       "Family Leisure     Business Class      8\n",
       "                   Economy Class      29\n",
       "                   First Class         1\n",
       "                   Premium Economy     2\n",
       "Solo Leisure       Business Class     16\n",
       "                   Economy Class      32\n",
       "                   First Class         5\n",
       "                   Premium Economy     1\n",
       "dtype: int64"
      ]
     },
     "execution_count": 76,
     "metadata": {},
     "output_type": "execute_result"
    }
   ],
   "source": [
    "# Create subplots with 2 rows and 2 columns\n",
    "fig, axes = plt.subplots(2, 2, figsize=(15, 10))\n",
    "\n",
    "# Business People pie\n",
    "group[\"Business\"].plot(kind=\"pie\", autopct='%1.1f%%', ax=axes[0, 0])\n",
    "axes[0, 0].set_title(\"Business People\")\n",
    "\n",
    "# Couple Leisure pie\n",
    "group[\"Couple Leisure\"].plot(kind=\"pie\", autopct='%1.1f%%', ax=axes[0, 1])\n",
    "axes[0, 1].set_title(\"Couple Leisure\")\n",
    "\n",
    "# Family Leisure pie\n",
    "group[\"Family Leisure\"].plot(kind=\"pie\", autopct='%1.1f%%', ax=axes[1, 0])\n",
    "axes[1, 0].set_title(\"Family Leisure\")\n",
    "\n",
    "# Solo Leisure pie\n",
    "group[\"Solo Leisure\"].plot(kind=\"pie\", autopct='%1.1f%%', ax=axes[1, 1])\n",
    "axes[1, 1].set_title(\"Solo Leisure\")\n",
    "\n",
    "plt.tight_layout()\n",
    "plt.show()\n",
    "\n",
    "group\n"
   ]
  },
  {
   "cell_type": "markdown",
   "metadata": {},
   "source": [
    "From this analysis, we can say that based on the type of traveller quite have an affect on type of seat they going to get. A business person way more likely to pick pricier business class as their choice, with around 55% of business person reviewer pick business class, while on the other end, family leisure are more likely to pick economy class. Couple leisure reviewer are thinly split between Business class (40%) and Economy class (47%). Most solo leisure user will take Economy class (60%)."
   ]
  },
  {
   "cell_type": "markdown",
   "metadata": {},
   "source": [
    "### Seat Type and Reccomendation"
   ]
  },
  {
   "cell_type": "code",
   "execution_count": 79,
   "metadata": {},
   "outputs": [
    {
     "data": {
      "text/plain": [
       "Economy Class      102\n",
       "Business Class      74\n",
       "First Class         14\n",
       "Premium Economy     10\n",
       "Name: Seat Type, dtype: int64"
      ]
     },
     "execution_count": 79,
     "metadata": {},
     "output_type": "execute_result"
    }
   ],
   "source": [
    "df[\"Seat Type\"].value_counts()"
   ]
  },
  {
   "cell_type": "code",
   "execution_count": 78,
   "metadata": {},
   "outputs": [
    {
     "data": {
      "text/plain": [
       "True     112\n",
       "False     88\n",
       "Name: Reccomend, dtype: int64"
      ]
     },
     "execution_count": 78,
     "metadata": {},
     "output_type": "execute_result"
    }
   ],
   "source": [
    "df[\"Reccomend\"].value_counts()"
   ]
  },
  {
   "cell_type": "code",
   "execution_count": null,
   "metadata": {},
   "outputs": [],
   "source": []
  }
 ],
 "metadata": {
  "kernelspec": {
   "display_name": "Python 3",
   "language": "python",
   "name": "python3"
  },
  "language_info": {
   "codemirror_mode": {
    "name": "ipython",
    "version": 3
   },
   "file_extension": ".py",
   "mimetype": "text/x-python",
   "name": "python",
   "nbconvert_exporter": "python",
   "pygments_lexer": "ipython3",
   "version": "3.8.5"
  }
 },
 "nbformat": 4,
 "nbformat_minor": 2
}
