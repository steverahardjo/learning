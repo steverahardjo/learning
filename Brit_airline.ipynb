{
 "cells": [
  {
   "cell_type": "markdown",
   "metadata": {},
   "source": [
    "# Report"
   ]
  },
  {
   "cell_type": "markdown",
   "metadata": {},
   "source": [
    "## Comparative Report between British Airways and competing airlines of 3 BA Most Profitable Routes. "
   ]
  },
  {
   "cell_type": "markdown",
   "metadata": {},
   "source": [
    "### Introduction\n",
    "\n",
    "In this analysis, we aim to compare British Airways (BA) customer service performance based on the metric available in Skystrax website. The identified main competitors for these routes are American Airlines, Emirati Airline, and Cathay Pacific Airlines. To ensure a uniform analysis, I decide to only take into account the economy class reviews.\n",
    "\n",
    "### Identified Metrics\n",
    "\n",
    "Two key metrics will be considered in this comparative analysis:\n",
    "\n",
    "1. **Customer Service Comments and Quantifiable Rating:**\n",
    "   - We will analyze customer reviews and ratings related to customer service. This will involve considering both qualitative comments and quantifiable ratings provided by passengers.\n",
    "\n",
    "2. **Pricing:**\n",
    "   - The pricing strategy of each airline will be assessed. This includes examining the affordability and value for money perceived by customers.\n",
    "\n",
    "### Review Limitations and Caveats\n",
    "\n",
    "It's crucial to acknowledge and address potential biases and limitations in the review data:\n",
    "\n",
    "1. **Negativity Bias:**\n",
    "   - Recognize that dissatisfied customers may be more inclined to leave reviews. This negativity bias could skew the representation of the overall customer experience. To mitigate this, we will attempt to extract insights from a diverse range of reviews.\n",
    "\n",
    "2. **Incomplete Representation:**\n",
    "   - Acknowledge that online reviews may not provide a comprehensive view of the passenger experience. Some satisfied customers may not leave reviews, leading to an incomplete representation. We will attempt to account for this limitation by considering multiple sources and trends over time.\n",
    "\n",
    "### Analysis Approach\n",
    "\n",
    "To conduct the analysis, we will:\n",
    "\n",
    "1. **Collect Data:**\n",
    "   - Gather customer reviews and ratings for each airline on the specified routes, focusing on the years 2022-2023.\n",
    "\n",
    "2. **Segmentation:**\n",
    "   - Segment the data based on airlines, routes, and travel years to facilitate a detailed and targeted analysis.\n",
    "\n",
    "3. **Quantitative Analysis:**\n",
    "   - Conduct a quantitative analysis of the quantifiable ratings to identify trends and patterns in customer satisfaction.\n",
    "\n",
    "4. **NLP Analysis:**\n",
    "   - Utilize Natural Language Processing (NLP) techniques, including stemming, to analyze and make sense of qualitative comments. This will help extract key themes and sentiments from customer feedback.\n",
    "\n",
    "5. **Correlation Analysis:**\n",
    "   - Explore the correlation between quantifiable ratings and the sentiments expressed in comments. This will provide a deeper understanding of how numerical ratings align with qualitative feedback, representing the comments with the quantifiable metrics\n",
    "\n",
    "By approaching the analysis systematically and considering potential biases, we aim to provide a comprehensive and insightful comparison of British Airways and its competitors on the specified routes.\n"
   ]
  },
  {
   "cell_type": "markdown",
   "metadata": {},
   "source": [
    "### **Step 1 & 2**"
   ]
  },
  {
   "cell_type": "code",
   "execution_count": 2,
   "metadata": {},
   "outputs": [],
   "source": [
    "import requests\n",
    "from bs4 import BeautifulSoup\n",
    "import pandas as pd"
   ]
  },
  {
   "cell_type": "markdown",
   "metadata": {},
   "source": [
    "First, we need to scrape British Airways review data and their comment posted in the Skystrax platform.\n",
    "the data will be divided into:\n",
    "1. Name (string)\n",
    "2. Type of seat flown (categorical)\n",
    "3. Routes taken (string)\n",
    "4. Date flown (datetime)\n",
    "5. Comment (string)"
   ]
  },
  {
   "cell_type": "code",
   "execution_count": 113,
   "metadata": {},
   "outputs": [
    {
     "name": "stdout",
     "output_type": "stream",
     "text": [
      "Scraping page 1\n",
      "Scraping page 2\n",
      "Scraping page 3\n",
      "Scraping page 4\n",
      "Scraping page 5\n",
      "Scraping page 6\n",
      "Scraping page 7\n",
      "Scraping page 8\n",
      "Scraping page 9\n",
      "Scraping page 10\n",
      "Scraping page 11\n",
      "Scraping page 12\n",
      "Scraping page 13\n",
      "Scraping page 14\n",
      "Scraping page 15\n",
      "Scraping page 16\n",
      "Scraping page 17\n",
      "Scraping page 18\n",
      "Scraping page 19\n",
      "Scraping page 20\n",
      "Scraping completed.\n"
     ]
    }
   ],
   "source": [
    "base_url = \"https://www.airlinequality.com/airline-reviews/british-airways\"\n",
    "pages = 20\n",
    "page_size = 500\n",
    "\n",
    "df = pd.DataFrame()\n",
    "\n",
    "for i in range(1, pages + 1):\n",
    "    print(f\"Scraping page {i}\")\n",
    "\n",
    "    # Create URL to collect links from paginated data\n",
    "    url = f\"{base_url}/page/{i}/?sortby=post_date%3ADesc&pagesize={page_size}\"\n",
    "\n",
    "    # Collect HTML data from this page\n",
    "    response = requests.get(url)\n",
    "\n",
    "    # Parse content\n",
    "    content = response.content\n",
    "    parsed_content = BeautifulSoup(content, 'html.parser')\n",
    "    \n",
    "    # Find all <td> tags with class \"review-rating-header cabin_flown\"\n",
    "    td_tags_name=parsed_content.find_all(\"span\", itemprop=\"name\")\n",
    "    td_tags_cabin_flown = parsed_content.find_all('td', class_='review-rating-header cabin_flown')\n",
    "    td_tags_route=parsed_content.find_all(\"td\", class_=\"review-rating-header route\")\n",
    "    td_tags_traveller=parsed_content.find_all(\"td\", class_=\"review-rating-header type_of_traveller\")\n",
    "    td_tags_date=parsed_content.find_all(\"td\", class_=\"review-rating-header date_flown\")\n",
    "    td_text_context=parsed_content.find_all(\"div\", {\"class\": \"text_content\"})\n",
    "    td_tags_recommend = parsed_content.find_all(\"td\", class_=\"review-rating-header recommended\")\n",
    "    \n",
    "    for index, tag_name in enumerate(td_tags_name):\n",
    "        name=tag_name.text.strip()\n",
    "        df.at[index, \"Name\"]= name\n",
    "\n",
    "    for index, td_element in enumerate(td_tags_cabin_flown):\n",
    "        # Handle td_tags_cabin_flown\n",
    "        seat_type_td_tag = td_element.find_next_sibling('td', class_='review-value')\n",
    "        seat_type = seat_type_td_tag.text.strip()\n",
    "        df.at[index, \"Seat Type\"] = seat_type\n",
    "\n",
    "    for index, td_element in enumerate(td_tags_route):\n",
    "        # Handle td_tags_route\n",
    "        route_td_tag = td_element.find_next_sibling(\"td\", class_=\"review-value\")\n",
    "        route = route_td_tag.text.strip()\n",
    "        df.at[index, \"Route\"] = route\n",
    "\n",
    "    for index, td_element in enumerate(td_tags_traveller):\n",
    "        traveller_td_tag = td_element.find_next_sibling(\"td\", class_=\"review-value\")\n",
    "        traveller_type = traveller_td_tag.text.strip()\n",
    "        df.at[index, \"Type of Traveller\"] = traveller_type\n",
    "\n",
    "    for index, td_element in enumerate(td_tags_date):\n",
    "        date_td_tag = td_element.find_next_sibling(\"td\", class_=\"review-value\")\n",
    "        date_flown = date_td_tag.text.strip()\n",
    "        df.at[index, \"Date flown\"] = date_flown\n",
    "            \n",
    "    for index, td_elem in enumerate (td_tags_recommend):\n",
    "        recommendation_val_elem = td_elem.find_next_sibling(\"td\", class_=\"review-value\")\n",
    "        if \"rating-no\" in recommendation_val_elem[\"class\"]:\n",
    "            df.at[index, \"Reccomend\"]= True\n",
    "        else:\n",
    "            df.at[index, \"Reccomend\"]= False\n",
    "\n",
    "    \n",
    "    for index, text in enumerate(td_text_context):\n",
    "        df.at[index, \"Comment\"] = text.get_text()\n",
    "            \n",
    "\n",
    "    "
   ]
  },
  {
   "cell_type": "code",
   "execution_count": 85,
   "metadata": {},
   "outputs": [],
   "source": [
    "b = pd.read_csv(\"scrape_airtrax.csv\")\n",
    "c = pd.read_csv(\"new_airtrax.csv\")\n",
    "\n",
    "combine = pd.concat([b, c])\n",
    "combine.drop_duplicates()\n",
    "df=combine"
   ]
  },
  {
   "cell_type": "markdown",
   "metadata": {},
   "source": [
    "## Data Cleaning"
   ]
  },
  {
   "cell_type": "code",
   "execution_count": 86,
   "metadata": {},
   "outputs": [],
   "source": [
    "#change flight wording from - to \" to \"\n",
    "i=0\n",
    "lst=[]\n",
    "for route in df[\"Route\"]:\n",
    "    s=\"\"\n",
    "    for r in route:\n",
    "        if r == \"-\":\n",
    "            r= \" to \"\n",
    "        s+=r\n",
    "    lst.append(s)\n",
    "df[\"Route\"]=lst\n",
    "\n",
    "#split flight into Departure and Destination \n",
    "s=df[\"Route\"]\n",
    "depart=[]\n",
    "destin=[]\n",
    "for route in s:\n",
    "    r=route.split(\" to \")\n",
    "    depart.append(r[0])\n",
    "    destin.append(r[-1])\n",
    "df[\"Departure\"]=depart\n",
    "df[\"Destination\"]=destin  \n"
   ]
  },
  {
   "cell_type": "code",
   "execution_count": 87,
   "metadata": {},
   "outputs": [],
   "source": [
    "#format the datetime from string into an actual datetime\n",
    "df[\"Date flown\"] = pd.to_datetime(df[\"Date flown\"], format=\"%B %Y\")\n",
    "df.sort_values(by=\"Date flown\", ascending=True)\n",
    "new_column_order = ['Name', 'Seat Type', 'Type of Traveller', 'Date flown', 'Reccomend', 'Departure', 'Destination', 'Comment']\n",
    "df = df[new_column_order]\n"
   ]
  },
  {
   "cell_type": "code",
   "execution_count": null,
   "metadata": {},
   "outputs": [],
   "source": [
    "df[\"Destination\"]=df[\"Destination\"].replace(\"London\", \"Heathrow\")\n",
    "df[\"Destination\"]= df[\"Destination\"].replace(\"London Heathrow\", \"Heathrow\")\n",
    "df[\"Destination\"]= df[\"Destination\"].replace(\"LHR\", \"Heathrow\")"
   ]
  },
  {
   "cell_type": "code",
   "execution_count": null,
   "metadata": {},
   "outputs": [],
   "source": [
    "df[\"Departure\"]=df[\"Departure\"].replace(\"London\", \"Heathrow\")\n",
    "df[\"Departure\"]= df[\"Departure\"].replace(\"London Heathrow\", \"Heathrow\")\n",
    "df[\"Departure\"]= df[\"Departure\"].replace(\"London Gatwick\", \"Gatwick\")\n",
    "df[\"Departure\"]= df[\"Departure\"].replace(\"GLA\", \"Glasgow\")"
   ]
  },
  {
   "cell_type": "markdown",
   "metadata": {},
   "source": [
    "# Quantative Analysis\n",
    "We need to do some simple quantitive analysis based on the integer data we already have and visualize it using graphs appropriate for the situation."
   ]
  },
  {
   "cell_type": "code",
   "execution_count": 90,
   "metadata": {},
   "outputs": [],
   "source": [
    "import matplotlib.pyplot as plt"
   ]
  },
  {
   "cell_type": "code",
   "execution_count": 91,
   "metadata": {},
   "outputs": [
    {
     "data": {
      "text/plain": [
       "A Hickling        6\n",
       "W Benson          6\n",
       "C Denson          6\n",
       "Sander van Kan    6\n",
       "C Cutts           5\n",
       "                 ..\n",
       "Thompson Alan     2\n",
       "J Robertson       2\n",
       "R Thompson        2\n",
       "James Little      2\n",
       "Luis Starr        2\n",
       "Name: Name, Length: 171, dtype: int64"
      ]
     },
     "execution_count": 91,
     "metadata": {},
     "output_type": "execute_result"
    }
   ],
   "source": [
    "df[\"Name\"].value_counts()"
   ]
  },
  {
   "cell_type": "code",
   "execution_count": 92,
   "metadata": {},
   "outputs": [
    {
     "data": {
      "text/plain": [
       "2015-08-01    136\n",
       "2015-07-01    106\n",
       "2015-06-01     76\n",
       "2015-05-01     30\n",
       "2015-09-01     28\n",
       "2015-04-01      6\n",
       "2014-09-01      4\n",
       "2014-11-01      4\n",
       "2014-07-01      2\n",
       "2014-08-01      2\n",
       "2015-03-01      2\n",
       "2014-12-01      2\n",
       "2014-10-01      2\n",
       "Name: Date flown, dtype: int64"
      ]
     },
     "execution_count": 92,
     "metadata": {},
     "output_type": "execute_result"
    }
   ],
   "source": [
    "#count how many review for the month & year they flown\n",
    "df[\"Date flown\"].value_counts()"
   ]
  },
  {
   "cell_type": "code",
   "execution_count": 93,
   "metadata": {},
   "outputs": [
    {
     "data": {
      "text/plain": [
       "False    243\n",
       "True     157\n",
       "Name: Reccomend, dtype: int64"
      ]
     },
     "execution_count": 93,
     "metadata": {},
     "output_type": "execute_result"
    }
   ],
   "source": [
    "#count how many reviewer reccomend British Airline\n",
    "df[\"Reccomend\"].value_counts()"
   ]
  },
  {
   "cell_type": "markdown",
   "metadata": {},
   "source": [
    "#### Reccomended and Date Flown\n",
    "Analyze the reccomendation and compared it with when the reviewer take the flight.\n",
    "By doing this, we can recognize in which month reviewer travelled the most for 13 months between 2015-2016. We can see the correlation between the number of traveller with good review or reccomended and bad review or not reccomended."
   ]
  },
  {
   "cell_type": "code",
   "execution_count": 94,
   "metadata": {},
   "outputs": [],
   "source": [
    "group_reccom_date = df.groupby(pd.Grouper(key=\"Date flown\"))[\"Reccomend\"].value_counts()"
   ]
  },
  {
   "cell_type": "code",
   "execution_count": 95,
   "metadata": {},
   "outputs": [
    {
     "data": {
      "image/png": "[encoded data removed]",
      "text/plain": [
       "<Figure size 720x432 with 1 Axes>"
      ]
     },
     "metadata": {
      "needs_background": "light"
     },
     "output_type": "display_data"
    }
   ],
   "source": [
    "group_reccom_date = group_reccom_date.reset_index(name='count')\n",
    "# Pivot the DataFrame\n",
    "pivot_df = group_reccom_date.pivot(index='Date flown', columns='Reccomend', values='count').fillna(0)\n",
    "\n",
    "# Plotting\n",
    "pivot_df.plot(kind='bar', stacked=False, figsize=(10, 6))\n",
    "\n",
    "\n",
    "\n",
    "# Adding labels and title\n",
    "plt.xlabel('Date flown')\n",
    "plt.ylabel('Count')\n",
    "plt.title('Recommendation Counts by Date flown')\n",
    "\n",
    "# Show plot\n",
    "plt.xticks(rotation=90)\n",
    "plt.tight_layout()\n",
    "plt.legend(title='Recommended')\n",
    "plt.show()"
   ]
  },
  {
   "cell_type": "markdown",
   "metadata": {},
   "source": [
    "We can see from this bar plot we can see that in the year 2014-2015, the amount of passenger and review start to ramp up in May 2015 and peaking at August 2015.The more reviewer don't reccomend British Airways, this may can indicate as quantity increased, the level of service decrease, ending up with amount of not reccomended increase sharply in June 2015, eventhough the airline can pick up the quality but the number of reviewer don't reccomended stay more than the reccomend."
   ]
  },
  {
   "cell_type": "markdown",
   "metadata": {},
   "source": [
    "#### Seat Type and Type of Traveller"
   ]
  },
  {
   "cell_type": "code",
   "execution_count": 96,
   "metadata": {},
   "outputs": [
    {
     "data": {
      "text/plain": [
       "Economy Class      190\n",
       "Business Class     146\n",
       "Premium Economy     38\n",
       "First Class         26\n",
       "Name: Seat Type, dtype: int64"
      ]
     },
     "execution_count": 96,
     "metadata": {},
     "output_type": "execute_result"
    }
   ],
   "source": [
    "df[\"Seat Type\"].value_counts()"
   ]
  },
  {
   "cell_type": "code",
   "execution_count": 97,
   "metadata": {},
   "outputs": [
    {
     "data": {
      "text/plain": [
       "Couple Leisure    110\n",
       "Solo Leisure      108\n",
       "Business          102\n",
       "Family Leisure     80\n",
       "Name: Type of Traveller, dtype: int64"
      ]
     },
     "execution_count": 97,
     "metadata": {},
     "output_type": "execute_result"
    }
   ],
   "source": [
    "df[\"Type of Traveller\"].value_counts()"
   ]
  },
  {
   "cell_type": "code",
   "execution_count": 98,
   "metadata": {},
   "outputs": [],
   "source": [
    "group= df.groupby(['Type of Traveller', 'Seat Type']).size()"
   ]
  },
  {
   "cell_type": "code",
   "execution_count": 99,
   "metadata": {},
   "outputs": [
    {
     "data": {
      "image/png": "[encoded data removed]",
      "text/plain": [
       "<Figure size 1080x720 with 4 Axes>"
      ]
     },
     "metadata": {},
     "output_type": "display_data"
    },
    {
     "data": {
      "text/plain": [
       "Type of Traveller  Seat Type      \n",
       "Business           Business Class     41\n",
       "                   Economy Class      44\n",
       "                   First Class         8\n",
       "                   Premium Economy     9\n",
       "Couple Leisure     Business Class     34\n",
       "                   Economy Class      53\n",
       "                   First Class        10\n",
       "                   Premium Economy    13\n",
       "Family Leisure     Business Class     39\n",
       "                   Economy Class      30\n",
       "                   First Class         3\n",
       "                   Premium Economy     8\n",
       "Solo Leisure       Business Class     32\n",
       "                   Economy Class      63\n",
       "                   First Class         5\n",
       "                   Premium Economy     8\n",
       "dtype: int64"
      ]
     },
     "execution_count": 99,
     "metadata": {},
     "output_type": "execute_result"
    }
   ],
   "source": [
    "# Create subplots with 2 rows and 2 columns\n",
    "fig, axes = plt.subplots(2, 2, figsize=(15, 10))\n",
    "\n",
    "# Business People pie\n",
    "group[\"Business\"].plot(kind=\"pie\", autopct='%1.1f%%', ax=axes[0, 0])\n",
    "axes[0, 0].set_title(\"Business People\")\n",
    "\n",
    "# Couple Leisure pie\n",
    "group[\"Couple Leisure\"].plot(kind=\"pie\", autopct='%1.1f%%', ax=axes[0, 1])\n",
    "axes[0, 1].set_title(\"Couple Leisure\")\n",
    "\n",
    "# Family Leisure pie\n",
    "group[\"Family Leisure\"].plot(kind=\"pie\", autopct='%1.1f%%', ax=axes[1, 0])\n",
    "axes[1, 0].set_title(\"Family Leisure\")\n",
    "\n",
    "# Solo Leisure pie\n",
    "group[\"Solo Leisure\"].plot(kind=\"pie\", autopct='%1.1f%%', ax=axes[1, 1])\n",
    "axes[1, 1].set_title(\"Solo Leisure\")\n",
    "\n",
    "plt.tight_layout()\n",
    "plt.show()\n",
    "\n",
    "group\n"
   ]
  },
  {
   "cell_type": "markdown",
   "metadata": {},
   "source": [
    "From this analysis, we can see that Family leisure Leisure and Business people make dominant number of people leaving a reviewer, both of this subclass of people are also more likely to get the pricier service (other than Economy class) and business class represent big amount of their subclass. On the other hand, Solo leisure and Couple leisure people are way more likely to use frugal economy class. "
   ]
  },
  {
   "cell_type": "markdown",
   "metadata": {},
   "source": [
    "### Seat Type and Reccomendation"
   ]
  },
  {
   "cell_type": "code",
   "execution_count": 100,
   "metadata": {},
   "outputs": [],
   "source": [
    "seat_type=df[\"Seat Type\"].value_counts()"
   ]
  },
  {
   "cell_type": "code",
   "execution_count": 101,
   "metadata": {},
   "outputs": [
    {
     "data": {
      "text/plain": [
       "False    243\n",
       "True     157\n",
       "Name: Reccomend, dtype: int64"
      ]
     },
     "execution_count": 101,
     "metadata": {},
     "output_type": "execute_result"
    }
   ],
   "source": [
    "df[\"Reccomend\"].value_counts()"
   ]
  },
  {
   "cell_type": "code",
   "execution_count": 102,
   "metadata": {},
   "outputs": [
    {
     "data": {
      "text/plain": [
       "Seat Type        Reccomend\n",
       "Business Class   False         94\n",
       "                 True          52\n",
       "Economy Class    False        112\n",
       "                 True          78\n",
       "First Class      False         16\n",
       "                 True          10\n",
       "Premium Economy  False         21\n",
       "                 True          17\n",
       "dtype: int64"
      ]
     },
     "execution_count": 102,
     "metadata": {},
     "output_type": "execute_result"
    }
   ],
   "source": [
    "recc_seat= df.groupby(['Seat Type', 'Reccomend']).size()\n",
    "recc_seat"
   ]
  },
  {
   "cell_type": "code",
   "execution_count": 103,
   "metadata": {},
   "outputs": [
    {
     "data": {
      "image/png": "[encoded data removed]",
      "text/plain": [
       "<Figure size 864x648 with 4 Axes>"
      ]
     },
     "metadata": {},
     "output_type": "display_data"
    }
   ],
   "source": [
    "import matplotlib.pyplot as plt\n",
    "\n",
    "\n",
    "# Plotting\n",
    "fig, axes = plt.subplots(2, 2, figsize=(12, 9))\n",
    "\n",
    "# Flatten the axes array to iterate over subplots\n",
    "axes = axes.flatten()\n",
    "\n",
    "# Plot a pie chart in each subplot\n",
    "for i, (seat_type, data) in enumerate(recc_seat.groupby('Seat Type')):\n",
    "    ax = axes[i]\n",
    "    data.plot(kind='pie', ax=ax, autopct='%1.1f%%', colors=['lightblue', 'lightcoral'], startangle=90)\n",
    "    ax.set_title(seat_type)\n",
    "\n",
    "# Adjust layout\n",
    "plt.tight_layout()\n",
    "\n",
    "# Show plot\n",
    "plt.show()\n",
    "\n",
    "\n",
    "\n"
   ]
  },
  {
   "cell_type": "markdown",
   "metadata": {},
   "source": [
    "From here we can say there is a lot more dissatisfaction of people using Business class than people using Economy class, this is not a good sign when Business class is being designed to have better services with higher prices means that the product we deliver worth less compared to the price tag. This also happens compared with First class passenger. "
   ]
  },
  {
   "cell_type": "markdown",
   "metadata": {},
   "source": [
    "### Departure, Destination, and Reccomend\n",
    "We aim to visualize the departure areas of reviewers, their respective destinations, and the number of reviewers who recommend British Airlines based on their departure spot. This visualization will provide insight into the most common departure spots and destinations, as well as the likelihood of recommending British Airlines from each departure area."
   ]
  },
  {
   "cell_type": "code",
   "execution_count": 104,
   "metadata": {},
   "outputs": [
    {
     "data": {
      "text/plain": [
       "Heathrow    97\n",
       "LHR         76\n",
       "Gatwick     22\n",
       "Glasgow     10\n",
       "Sydney       8\n",
       "            ..\n",
       "Verona       2\n",
       "Miami        2\n",
       "Bologna      2\n",
       "Istambul     2\n",
       "Rome         1\n",
       "Name: Departure, Length: 76, dtype: int64"
      ]
     },
     "execution_count": 104,
     "metadata": {},
     "output_type": "execute_result"
    }
   ],
   "source": [
    "df[\"Departure\"].value_counts()"
   ]
  },
  {
   "cell_type": "code",
   "execution_count": 105,
   "metadata": {},
   "outputs": [
    {
     "data": {
      "text/plain": [
       "Heathrow          113\n",
       "London Gatwick      6\n",
       "Vienna              6\n",
       "Singapore           5\n",
       "Milan via LHR       4\n",
       "                 ... \n",
       "IST                 2\n",
       "Kuala lumpur        2\n",
       "VCE                 2\n",
       "BOM via LHR         1\n",
       "AMS                 1\n",
       "Name: Destination, Length: 123, dtype: int64"
      ]
     },
     "execution_count": 105,
     "metadata": {},
     "output_type": "execute_result"
    }
   ],
   "source": [
    "df[\"Destination\"].value_counts()"
   ]
  },
  {
   "cell_type": "markdown",
   "metadata": {},
   "source": [
    "From this we can say that significant portion of reviewer come from Heathrow and significant portion of reviewer going to Heathrow from other places internationally. Interestingly, we can see that there is more area in the Destination than the Departure area. \n",
    "&nbsp;"
   ]
  },
  {
   "cell_type": "markdown",
   "metadata": {},
   "source": [
    "Now we going to separate the data to reccomend (yes , no) and plot the departure point and destination point for each of these sub dataset. From this, we can see which route have underperforming service or inconsistent service based on reviewers decision to reccomend this airline or not."
   ]
  },
  {
   "cell_type": "code",
   "execution_count": 110,
   "metadata": {},
   "outputs": [
    {
     "data": {
      "text/html": [
       "<div>\n",
       "<style scoped>\n",
       "    .dataframe tbody tr th:only-of-type {\n",
       "        vertical-align: middle;\n",
       "    }\n",
       "\n",
       "    .dataframe tbody tr th {\n",
       "        vertical-align: top;\n",
       "    }\n",
       "\n",
       "    .dataframe thead th {\n",
       "        text-align: right;\n",
       "    }\n",
       "</style>\n",
       "<table border=\"1\" class=\"dataframe\">\n",
       "  <thead>\n",
       "    <tr style=\"text-align: right;\">\n",
       "      <th></th>\n",
       "      <th>Name</th>\n",
       "      <th>Seat Type</th>\n",
       "      <th>Type of Traveller</th>\n",
       "      <th>Date flown</th>\n",
       "      <th>Reccomend</th>\n",
       "      <th>Departure</th>\n",
       "      <th>Destination</th>\n",
       "      <th>Comment</th>\n",
       "    </tr>\n",
       "  </thead>\n",
       "  <tbody>\n",
       "    <tr>\n",
       "      <th>1</th>\n",
       "      <td>Livingston Alan</td>\n",
       "      <td>Premium Economy</td>\n",
       "      <td>Couple Leisure</td>\n",
       "      <td>2015-08-01</td>\n",
       "      <td>True</td>\n",
       "      <td>Glasgow</td>\n",
       "      <td>New York via LHR</td>\n",
       "      <td>I flew Glasgow-Gatwick-Vegas-Gatwick-Glasgow. ...</td>\n",
       "    </tr>\n",
       "    <tr>\n",
       "      <th>3</th>\n",
       "      <td>Chris Willwtt</td>\n",
       "      <td>First Class</td>\n",
       "      <td>Couple Leisure</td>\n",
       "      <td>2015-08-01</td>\n",
       "      <td>True</td>\n",
       "      <td>LHR</td>\n",
       "      <td>ARN</td>\n",
       "      <td>LHR-YVR-LHR. Flew in in First on very shabby 7...</td>\n",
       "    </tr>\n",
       "    <tr>\n",
       "      <th>12</th>\n",
       "      <td>Ryan Thomas</td>\n",
       "      <td>Economy Class</td>\n",
       "      <td>Couple Leisure</td>\n",
       "      <td>2015-07-01</td>\n",
       "      <td>True</td>\n",
       "      <td>Toronto</td>\n",
       "      <td>Heathrow</td>\n",
       "      <td>Travelled from OZ to watch start of TDF in Lee...</td>\n",
       "    </tr>\n",
       "    <tr>\n",
       "      <th>15</th>\n",
       "      <td>Jeff Smith</td>\n",
       "      <td>Business Class</td>\n",
       "      <td>Family Leisure</td>\n",
       "      <td>2015-08-01</td>\n",
       "      <td>True</td>\n",
       "      <td>Miami</td>\n",
       "      <td>Heathrow</td>\n",
       "      <td>Flew LHR to Larnaca and return 22nd April and ...</td>\n",
       "    </tr>\n",
       "    <tr>\n",
       "      <th>16</th>\n",
       "      <td>Tom Adamson</td>\n",
       "      <td>First Class</td>\n",
       "      <td>Business</td>\n",
       "      <td>2015-06-01</td>\n",
       "      <td>True</td>\n",
       "      <td>Heathrow</td>\n",
       "      <td>Geneva</td>\n",
       "      <td>LHR-SEA in \"first\" class. The experience was r...</td>\n",
       "    </tr>\n",
       "    <tr>\n",
       "      <th>...</th>\n",
       "      <td>...</td>\n",
       "      <td>...</td>\n",
       "      <td>...</td>\n",
       "      <td>...</td>\n",
       "      <td>...</td>\n",
       "      <td>...</td>\n",
       "      <td>...</td>\n",
       "      <td>...</td>\n",
       "    </tr>\n",
       "    <tr>\n",
       "      <th>188</th>\n",
       "      <td>Storey John</td>\n",
       "      <td>Business Class</td>\n",
       "      <td>Family Leisure</td>\n",
       "      <td>2015-09-01</td>\n",
       "      <td>True</td>\n",
       "      <td>Heathrow</td>\n",
       "      <td>Tokyo</td>\n",
       "      <td>MAD to LCY Business. Great lounge at Madrid fl...</td>\n",
       "    </tr>\n",
       "    <tr>\n",
       "      <th>192</th>\n",
       "      <td>D Day</td>\n",
       "      <td>Business Class</td>\n",
       "      <td>Family Leisure</td>\n",
       "      <td>2015-09-01</td>\n",
       "      <td>True</td>\n",
       "      <td>Heathrow</td>\n",
       "      <td>Paris</td>\n",
       "      <td>LGW-BGI-LGW Club World R/T. Old careworn B777-...</td>\n",
       "    </tr>\n",
       "    <tr>\n",
       "      <th>193</th>\n",
       "      <td>Senden Roswitha</td>\n",
       "      <td>Economy Class</td>\n",
       "      <td>Solo Leisure</td>\n",
       "      <td>2015-08-01</td>\n",
       "      <td>True</td>\n",
       "      <td>Heathrow</td>\n",
       "      <td>Bangkok</td>\n",
       "      <td>Very disappointed with my flight back from Mun...</td>\n",
       "    </tr>\n",
       "    <tr>\n",
       "      <th>194</th>\n",
       "      <td>Jackie Craig</td>\n",
       "      <td>Economy Class</td>\n",
       "      <td>Solo Leisure</td>\n",
       "      <td>2015-08-01</td>\n",
       "      <td>True</td>\n",
       "      <td>Las Vegas</td>\n",
       "      <td>Heathrow</td>\n",
       "      <td>I flew with British Airways with my mother fro...</td>\n",
       "    </tr>\n",
       "    <tr>\n",
       "      <th>195</th>\n",
       "      <td>J Norman</td>\n",
       "      <td>Business Class</td>\n",
       "      <td>Couple Leisure</td>\n",
       "      <td>2015-08-01</td>\n",
       "      <td>True</td>\n",
       "      <td>Athens</td>\n",
       "      <td>Heathrow</td>\n",
       "      <td>Flew LHR to Mumbai return with my husband - ve...</td>\n",
       "    </tr>\n",
       "  </tbody>\n",
       "</table>\n",
       "<p>157 rows × 8 columns</p>\n",
       "</div>"
      ],
      "text/plain": [
       "                Name        Seat Type Type of Traveller Date flown  Reccomend  \\\n",
       "1    Livingston Alan  Premium Economy    Couple Leisure 2015-08-01       True   \n",
       "3      Chris Willwtt      First Class    Couple Leisure 2015-08-01       True   \n",
       "12       Ryan Thomas    Economy Class    Couple Leisure 2015-07-01       True   \n",
       "15        Jeff Smith   Business Class    Family Leisure 2015-08-01       True   \n",
       "16       Tom Adamson      First Class          Business 2015-06-01       True   \n",
       "..               ...              ...               ...        ...        ...   \n",
       "188      Storey John   Business Class    Family Leisure 2015-09-01       True   \n",
       "192            D Day   Business Class    Family Leisure 2015-09-01       True   \n",
       "193  Senden Roswitha    Economy Class      Solo Leisure 2015-08-01       True   \n",
       "194     Jackie Craig    Economy Class      Solo Leisure 2015-08-01       True   \n",
       "195         J Norman   Business Class    Couple Leisure 2015-08-01       True   \n",
       "\n",
       "     Departure       Destination  \\\n",
       "1      Glasgow  New York via LHR   \n",
       "3          LHR               ARN   \n",
       "12     Toronto          Heathrow   \n",
       "15       Miami          Heathrow   \n",
       "16    Heathrow            Geneva   \n",
       "..         ...               ...   \n",
       "188   Heathrow             Tokyo   \n",
       "192   Heathrow             Paris   \n",
       "193   Heathrow           Bangkok   \n",
       "194  Las Vegas          Heathrow   \n",
       "195     Athens          Heathrow   \n",
       "\n",
       "                                               Comment  \n",
       "1    I flew Glasgow-Gatwick-Vegas-Gatwick-Glasgow. ...  \n",
       "3    LHR-YVR-LHR. Flew in in First on very shabby 7...  \n",
       "12   Travelled from OZ to watch start of TDF in Lee...  \n",
       "15   Flew LHR to Larnaca and return 22nd April and ...  \n",
       "16   LHR-SEA in \"first\" class. The experience was r...  \n",
       "..                                                 ...  \n",
       "188  MAD to LCY Business. Great lounge at Madrid fl...  \n",
       "192  LGW-BGI-LGW Club World R/T. Old careworn B777-...  \n",
       "193  Very disappointed with my flight back from Mun...  \n",
       "194  I flew with British Airways with my mother fro...  \n",
       "195  Flew LHR to Mumbai return with my husband - ve...  \n",
       "\n",
       "[157 rows x 8 columns]"
      ]
     },
     "execution_count": 110,
     "metadata": {},
     "output_type": "execute_result"
    }
   ],
   "source": [
    "yes = df[(df[\"Reccomend\"] == True)]\n",
    "yes"
   ]
  },
  {
   "cell_type": "code",
   "execution_count": null,
   "metadata": {},
   "outputs": [],
   "source": []
  }
 ],
 "metadata": {
  "kernelspec": {
   "display_name": "Python 3",
   "language": "python",
   "name": "python3"
  },
  "language_info": {
   "codemirror_mode": {
    "name": "ipython",
    "version": 3
   },
   "file_extension": ".py",
   "mimetype": "text/x-python",
   "name": "python",
   "nbconvert_exporter": "python",
   "pygments_lexer": "ipython3",
   "version": "3.8.5"
  }
 },
 "nbformat": 4,
 "nbformat_minor": 2
}
