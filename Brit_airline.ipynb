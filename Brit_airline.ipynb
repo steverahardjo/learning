{
 "cells": [
  {
   "cell_type": "markdown",
   "metadata": {},
   "source": [
    "# Report"
   ]
  },
  {
   "cell_type": "markdown",
   "metadata": {},
   "source": [
    "## Comparative Report between British Airways and competing airlines of 3 BA Most Profitable Routes. "
   ]
  },
  {
   "cell_type": "markdown",
   "metadata": {},
   "source": [
    "### Introduction\n",
    "\n",
    "In this analysis, we aim to compare British Airways (BA) with its main competitors on three popular international routes: JFK, Dubai, and Hong Kong, based on 2022 data. The identified main competitors for these routes are American Airlines, Emirati Airline, and Cathay Pacific Airlines. To ensure a uniform analysis, I decide to only take into account the economy class reviews.\n",
    "\n",
    "### Identified Metrics\n",
    "\n",
    "Two key metrics will be considered in this comparative analysis:\n",
    "\n",
    "1. **Customer Service Comments and Quantifiable Rating:**\n",
    "   - We will analyze customer reviews and ratings related to customer service. This will involve considering both qualitative comments and quantifiable ratings provided by passengers.\n",
    "\n",
    "2. **Pricing:**\n",
    "   - The pricing strategy of each airline will be assessed. This includes examining the affordability and value for money perceived by customers.\n",
    "\n",
    "### Review Limitations and Caveats\n",
    "\n",
    "It's crucial to acknowledge and address potential biases and limitations in the review data:\n",
    "\n",
    "1. **Negativity Bias:**\n",
    "   - Recognize that dissatisfied customers may be more inclined to leave reviews. This negativity bias could skew the representation of the overall customer experience. To mitigate this, we will attempt to extract insights from a diverse range of reviews.\n",
    "\n",
    "2. **Incomplete Representation:**\n",
    "   - Acknowledge that online reviews may not provide a comprehensive view of the passenger experience. Some satisfied customers may not leave reviews, leading to an incomplete representation. We will attempt to account for this limitation by considering multiple sources and trends over time.\n",
    "\n",
    "### Analysis Approach\n",
    "\n",
    "To conduct the analysis, we will:\n",
    "\n",
    "1. **Collect Data:**\n",
    "   - Gather customer reviews and ratings for each airline on the specified routes, focusing on the years 2022-2023.\n",
    "\n",
    "2. **Segmentation:**\n",
    "   - Segment the data based on airlines, routes, and travel years to facilitate a detailed and targeted analysis.\n",
    "\n",
    "3. **NLP Analysis:**\n",
    "   - Utilize Natural Language Processing (NLP) techniques, including stemming, to analyze and make sense of qualitative comments. This will help extract key themes and sentiments from customer feedback.\n",
    "\n",
    "4. **Quantitative Analysis:**\n",
    "   - Conduct a quantitative analysis of the quantifiable ratings to identify trends and patterns in customer satisfaction.\n",
    "\n",
    "5. **Correlation Analysis:**\n",
    "   - Explore the correlation between quantifiable ratings and the sentiments expressed in comments. This will provide a deeper understanding of how numerical ratings align with qualitative feedback, representing the comments with the quantifiable metrics\n",
    "\n",
    "By approaching the analysis systematically and considering potential biases, we aim to provide a comprehensive and insightful comparison of British Airways and its competitors on the specified routes.\n"
   ]
  },
  {
   "cell_type": "markdown",
   "metadata": {},
   "source": [
    "### **Step 1**"
   ]
  },
  {
   "cell_type": "code",
   "execution_count": 1,
   "metadata": {},
   "outputs": [],
   "source": [
    "import requests\n",
    "from bs4 import BeautifulSoup\n",
    "import pandas as pd"
   ]
  },
  {
   "cell_type": "markdown",
   "metadata": {},
   "source": [
    "British Airways customer service comment and ratings"
   ]
  },
  {
   "cell_type": "code",
   "execution_count": 2,
   "metadata": {},
   "outputs": [
    {
     "data": {
      "text/plain": [
       "<Response [200]>"
      ]
     },
     "execution_count": 2,
     "metadata": {},
     "output_type": "execute_result"
    }
   ],
   "source": [
    "base_url = \"https://www.airlinequality.com/airline-reviews/british-airways\"\n",
    "response = requests.get(base_url)\n",
    "response"
   ]
  },
  {
   "cell_type": "code",
   "execution_count": 14,
   "metadata": {},
   "outputs": [
    {
     "name": "stdout",
     "output_type": "stream",
     "text": [
      "Route: London Heathrow to Casablanca\n",
      "Route: London Heathrow to Glasgow\n",
      "Route: London Heathrow to Berlin\n",
      "Route: London to Miami\n",
      "Route: Athens to London\n",
      "Route: London Gatwick to Cancun\n",
      "Route: London to Warsaw\n",
      "Route: London Heathrow to Miami\n",
      "Route: Boston to Düsseldorf via London\n",
      "Route: Sao Paulo to London Heathrow\n"
     ]
    }
   ],
   "source": [
    "import requests\n",
    "from bs4 import BeautifulSoup\n",
    "\n",
    "# URL of the webpage\n",
    "url = \"https://www.airlinequality.com/airline-reviews/british-airways\"\n",
    "\n",
    "# Send a GET request to the website\n",
    "response = requests.get(url)\n",
    "\n",
    "# Check if the request was successful\n",
    "if response.status_code == 200:\n",
    "    # Parse the HTML content\n",
    "    soup = BeautifulSoup(response.content, 'html.parser')\n",
    "    # Find all <td> tags with class \"review-rating-header route\"\n",
    "    td_tags = soup.find_all('td', class_='review-rating-header route')\n",
    "\n",
    "    # Iterate over the <td> tags found\n",
    "    for td_tag in td_tags:\n",
    "        # Check if the text content of the current <td> tag is \"Route\"\n",
    "        if td_tag.text.strip() == 'Route':\n",
    "            # If \"Route\" is found, get the next <td> tag which contains the route information\n",
    "            route_td_tag = td_tag.find_next_sibling('td', class_='review-value')\n",
    "            # Extract the text content of the <td> tag\n",
    "            route = route_td_tag.text.strip()\n",
    "            print(\"Route:\", route)"
   ]
  },
  {
   "cell_type": "code",
   "execution_count": 4,
   "metadata": {},
   "outputs": [
    {
     "data": {
      "text/html": [
       "<div>\n",
       "<style scoped>\n",
       "    .dataframe tbody tr th:only-of-type {\n",
       "        vertical-align: middle;\n",
       "    }\n",
       "\n",
       "    .dataframe tbody tr th {\n",
       "        vertical-align: top;\n",
       "    }\n",
       "\n",
       "    .dataframe thead th {\n",
       "        text-align: right;\n",
       "    }\n",
       "</style>\n",
       "<table border=\"1\" class=\"dataframe\">\n",
       "  <thead>\n",
       "    <tr style=\"text-align: right;\">\n",
       "      <th></th>\n",
       "      <th>reviews</th>\n",
       "      <th>rating</th>\n",
       "    </tr>\n",
       "  </thead>\n",
       "  <tbody>\n",
       "    <tr>\n",
       "      <th>0</th>\n",
       "      <td>{'review': '✅Trip Verified|  I flew to LHR fro...</td>\n",
       "      <td>Not available</td>\n",
       "    </tr>\n",
       "    <tr>\n",
       "      <th>1</th>\n",
       "      <td>{'review': '✅Trip Verified|  I like the Britis...</td>\n",
       "      <td>Not available</td>\n",
       "    </tr>\n",
       "    <tr>\n",
       "      <th>2</th>\n",
       "      <td>{'review': '✅Trip Verified|  I have come to bo...</td>\n",
       "      <td>Not available</td>\n",
       "    </tr>\n",
       "    <tr>\n",
       "      <th>3</th>\n",
       "      <td>{'review': '✅Trip Verified| Stinking nappies b...</td>\n",
       "      <td>Not available</td>\n",
       "    </tr>\n",
       "    <tr>\n",
       "      <th>4</th>\n",
       "      <td>{'review': '✅Trip Verified| Worst service ever...</td>\n",
       "      <td>Not available</td>\n",
       "    </tr>\n",
       "    <tr>\n",
       "      <th>...</th>\n",
       "      <td>...</td>\n",
       "      <td>...</td>\n",
       "    </tr>\n",
       "    <tr>\n",
       "      <th>3739</th>\n",
       "      <td>{'review': 'Flew LHR - VIE return operated by ...</td>\n",
       "      <td>Not available</td>\n",
       "    </tr>\n",
       "    <tr>\n",
       "      <th>3740</th>\n",
       "      <td>{'review': 'LHR to HAM. Purser addresses all c...</td>\n",
       "      <td>Not available</td>\n",
       "    </tr>\n",
       "    <tr>\n",
       "      <th>3741</th>\n",
       "      <td>{'review': 'My son who had worked for British ...</td>\n",
       "      <td>Not available</td>\n",
       "    </tr>\n",
       "    <tr>\n",
       "      <th>3742</th>\n",
       "      <td>{'review': 'London City-New York JFK via Shann...</td>\n",
       "      <td>Not available</td>\n",
       "    </tr>\n",
       "    <tr>\n",
       "      <th>3743</th>\n",
       "      <td>{'review': 'SIN-LHR BA12 B747-436 First Class....</td>\n",
       "      <td>Not available</td>\n",
       "    </tr>\n",
       "  </tbody>\n",
       "</table>\n",
       "<p>3744 rows × 2 columns</p>\n",
       "</div>"
      ],
      "text/plain": [
       "                                                reviews         rating\n",
       "0     {'review': '✅Trip Verified|  I flew to LHR fro...  Not available\n",
       "1     {'review': '✅Trip Verified|  I like the Britis...  Not available\n",
       "2     {'review': '✅Trip Verified|  I have come to bo...  Not available\n",
       "3     {'review': '✅Trip Verified| Stinking nappies b...  Not available\n",
       "4     {'review': '✅Trip Verified| Worst service ever...  Not available\n",
       "...                                                 ...            ...\n",
       "3739  {'review': 'Flew LHR - VIE return operated by ...  Not available\n",
       "3740  {'review': 'LHR to HAM. Purser addresses all c...  Not available\n",
       "3741  {'review': 'My son who had worked for British ...  Not available\n",
       "3742  {'review': 'London City-New York JFK via Shann...  Not available\n",
       "3743  {'review': 'SIN-LHR BA12 B747-436 First Class....  Not available\n",
       "\n",
       "[3744 rows x 2 columns]"
      ]
     },
     "execution_count": 4,
     "metadata": {},
     "output_type": "execute_result"
    }
   ],
   "source": [
    "df = pd.DataFrame()\n",
    "df[\"reviews\"] = reviews\n",
    "df[\"rating\"] = rating\n",
    "df"
   ]
  }
 ],
 "metadata": {
  "kernelspec": {
   "display_name": "Python 3",
   "language": "python",
   "name": "python3"
  },
  "language_info": {
   "codemirror_mode": {
    "name": "ipython",
    "version": 3
   },
   "file_extension": ".py",
   "mimetype": "text/x-python",
   "name": "python",
   "nbconvert_exporter": "python",
   "pygments_lexer": "ipython3",
   "version": "3.8.5"
  }
 },
 "nbformat": 4,
 "nbformat_minor": 2
}
