{
 "cells": [
  {
   "cell_type": "code",
   "execution_count": 52,
   "metadata": {},
   "outputs": [
    {
     "name": "stdout",
     "output_type": "stream",
     "text": [
      "False\n"
     ]
    }
   ],
   "source": [
    "class Solution(object):\n",
    "    def isValid(s):\n",
    "        \"\"\"\n",
    "        :type s: str\n",
    "        :rtype: bool\n",
    "        \"\"\"\n",
    "        choice = {\"(\": \")\", \"[\": \"]\", \"{\": \"}\"}\n",
    "        \n",
    "        for x in range(0, len(s)-1, 2):\n",
    "            if s[x] in choice:\n",
    "                expected = choice[s[x]]\n",
    "                if s[x+1] != expected:\n",
    "                    return False\n",
    "        \n",
    "        # Move the return statements outside the loop\n",
    "        return True\n",
    "\n",
    "# Example usage:\n",
    "print(Solution.isValid(\"()[]{]\"))"
   ]
  },
  {
   "cell_type": "code",
   "execution_count": 54,
   "metadata": {},
   "outputs": [
    {
     "name": "stdout",
     "output_type": "stream",
     "text": [
      "(2, [1, 2])\n"
     ]
    }
   ],
   "source": [
    "def removeDuplicates(nums):\n",
    "    for x in range(len(nums)-1, 0, -1):\n",
    "        if nums[x] == nums[x-1]:\n",
    "            del nums[x]\n",
    "    return len(nums), nums\n",
    "\n",
    "result = removeDuplicates([1, 1, 2])\n",
    "print(result)"
   ]
  },
  {
   "cell_type": "code",
   "execution_count": 55,
   "metadata": {},
   "outputs": [
    {
     "name": "stdout",
     "output_type": "stream",
     "text": [
      "[0, 1, 3, 0, 4]\n"
     ]
    }
   ],
   "source": [
    "def removeElement(nums, val):\n",
    "    \"\"\"\n",
    "    :type nums: List[int]\n",
    "    :type val: int\n",
    "    :rtype: int\n",
    "    \"\"\"\n",
    "    y = 0\n",
    "    for x in range(len(nums)):\n",
    "        if nums[x] != val:\n",
    "            nums[y] = nums[x]\n",
    "            y += 1\n",
    "    finished=nums[:y]\n",
    "    return finished\n",
    "\n",
    "result = removeElement([0, 1, 2, 2, 3, 0, 4, 2], 2)\n",
    "print(result)\n",
    "\n"
   ]
  },
  {
   "cell_type": "code",
   "execution_count": 56,
   "metadata": {},
   "outputs": [],
   "source": [
    "def strStr(haystack, needle):\n",
    "        \"\"\"\n",
    "        :type haystack: str\n",
    "        :type needle: str\n",
    "        :rtype: int\n",
    "        \"\"\"\n",
    "        for x in range(len(haystack)):\n",
    "            if haystack[x] == needle[0]:\n",
    "                check=haystack[x:len(needle)]\n",
    "                if check == needle:\n",
    "                    return x\n",
    "            else:\n",
    "                return -1\n",
    "        "
   ]
  },
  {
   "cell_type": "code",
   "execution_count": 57,
   "metadata": {},
   "outputs": [],
   "source": [
    "\n",
    "def searchInsert(nums, target):\n",
    "        \"\"\"\n",
    "        :type nums: List[int]\n",
    "        :type target: int\n",
    "        :rtype: int\n",
    "        \"\"\"\n",
    "        x = len(nums)//2\n",
    "        while target != nums[x]:\n",
    "            if target < nums[x]:\n",
    "                nums=nums[:x]\n",
    "                x=len(nums)//2\n",
    "            elif target > nums[x]:\n",
    "                nums=nums[x:]\n",
    "                x=len(nums)//2\n",
    "            else:\n",
    "                return x"
   ]
  },
  {
   "cell_type": "code",
   "execution_count": 58,
   "metadata": {},
   "outputs": [
    {
     "name": "stdout",
     "output_type": "stream",
     "text": [
      "2\n"
     ]
    }
   ],
   "source": [
    "class Solution(object):\n",
    "    def strStr(self, haystack, needle):\n",
    "        \"\"\"\n",
    "        :type haystack: str\n",
    "        :type needle: str\n",
    "        :rtype: int\n",
    "        \"\"\"\n",
    "        for x in range(len(haystack) - len(needle) + 1):\n",
    "            if haystack[x] == needle[0]:\n",
    "                check = haystack[x:x+len(needle)]\n",
    "                if check == needle:\n",
    "                    return x\n",
    "        return -1\n",
    "\n",
    "# Example usage:\n",
    "sol = Solution()\n",
    "print(sol.strStr(\"hello\", \"ll\"))\n"
   ]
  },
  {
   "cell_type": "code",
   "execution_count": 59,
   "metadata": {},
   "outputs": [
    {
     "data": {
      "text/plain": [
       "4"
      ]
     },
     "execution_count": 59,
     "metadata": {},
     "output_type": "execute_result"
    }
   ],
   "source": [
    "class Solution(object):\n",
    "    def lengthOfLastWord(self, s):\n",
    "        \"\"\"\n",
    "        :type s: str\n",
    "        :rtype: int\n",
    "        \"\"\"\n",
    "        # Find the end index of the last word by iterating from the end\n",
    "        end_index = len(s) - 1\n",
    "        while end_index >= 0 and s[end_index] == \" \":\n",
    "            end_index -= 1\n",
    "\n",
    "        # If the string is empty or contains only spaces, return 0\n",
    "        if end_index < 0:\n",
    "            return 0\n",
    "\n",
    "        # Find the start index of the last word by iterating from the end\n",
    "        start_index = end_index\n",
    "        while start_index >= 0 and s[start_index] != \" \":\n",
    "            start_index -= 1\n",
    "\n",
    "        # Calculate the length of the last word\n",
    "        length = end_index - start_index\n",
    "\n",
    "        return length\n",
    "\n",
    "# Example usage:\n",
    "sol = Solution()\n",
    "sol.lengthOfLastWord(\"   fly me   to   the moon  \")\n"
   ]
  },
  {
   "cell_type": "code",
   "execution_count": 60,
   "metadata": {},
   "outputs": [
    {
     "data": {
      "text/plain": [
       "[9, 10, 0]"
      ]
     },
     "execution_count": 60,
     "metadata": {},
     "output_type": "execute_result"
    }
   ],
   "source": [
    "class Solution(object):\n",
    "    def plusOne(self, digits):\n",
    "        \"\"\"\n",
    "        :type digits: List[int]\n",
    "        :rtype: List[int]\n",
    "        \"\"\"\n",
    "        i=len(digits)-1\n",
    "\n",
    "        while digits[i] ==9:\n",
    "            digits[i] = 0\n",
    "            digits[i-1]+=1\n",
    "            i-=1\n",
    "        if digits[i]<9:\n",
    "            digits[i-1]+=1\n",
    "        return digits\n",
    "sol=Solution()\n",
    "sol.plusOne([9, 9, 9])\n",
    "        "
   ]
  },
  {
   "cell_type": "code",
   "execution_count": 61,
   "metadata": {},
   "outputs": [
    {
     "data": {
      "text/plain": [
       "'100'"
      ]
     },
     "execution_count": 61,
     "metadata": {},
     "output_type": "execute_result"
    }
   ],
   "source": [
    "class Solution(object):\n",
    "    def count(self, lst):\n",
    "        length=len(lst)-1\n",
    "        acc=0\n",
    "        for x in range(len(lst)):\n",
    "            if lst[x] == \"1\":\n",
    "                diff=length-x\n",
    "                acc+=2**diff\n",
    "            else:\n",
    "                acc+=0\n",
    "        return acc\n",
    "\n",
    "    def addBinary(self, a, b):\n",
    "        \"\"\"\n",
    "        :type a: str\n",
    "        :type b: str\n",
    "        :rtype: str\n",
    "        \"\"\"\n",
    "        decimal_a = self.count(a)\n",
    "        decimal_b = self.count(b)\n",
    "\n",
    "        decimal_sum = decimal_a + decimal_b\n",
    "\n",
    "        if decimal_sum == 0:\n",
    "            return \"0\"\n",
    "\n",
    "        binary_sum = \"\"\n",
    "        while decimal_sum > 0:\n",
    "            remainder = decimal_sum % 2\n",
    "            binary_sum = str(remainder) + binary_sum\n",
    "            decimal_sum //= 2\n",
    "\n",
    "        return binary_sum\n",
    "\n",
    "    \n",
    "sol=Solution()\n",
    "sol.addBinary(\"1\", \"11\")\n"
   ]
  },
  {
   "cell_type": "code",
   "execution_count": 62,
   "metadata": {},
   "outputs": [
    {
     "data": {
      "text/plain": [
       "1"
      ]
     },
     "execution_count": 62,
     "metadata": {},
     "output_type": "execute_result"
    }
   ],
   "source": [
    "class Solution(object):\n",
    "    def mySqrt(self, x):\n",
    "        \"\"\"\n",
    "        :type x: int\n",
    "        :rtype: int\n",
    "        \"\"\"\n",
    "        i=1\n",
    "        ans=i*i\n",
    "        if x == 1:\n",
    "            return 1\n",
    "        while ans != x and ans<x:\n",
    "            ans=i*i\n",
    "            i+=1\n",
    "        i-=1\n",
    "        if i*i > x:\n",
    "            i-=1\n",
    "        return i\n",
    "            \n",
    "    \n",
    "sol=Solution()\n",
    "sol.mySqrt(1)"
   ]
  },
  {
   "cell_type": "code",
   "execution_count": 63,
   "metadata": {},
   "outputs": [
    {
     "ename": "TypeError",
     "evalue": "mySqrt() missing 1 required positional argument: 'x'",
     "output_type": "error",
     "traceback": [
      "\u001b[1;31m---------------------------------------------------------------------------\u001b[0m",
      "\u001b[1;31mTypeError\u001b[0m                                 Traceback (most recent call last)",
      "\u001b[1;32m<ipython-input-63-5819a331567b>\u001b[0m in \u001b[0;36m<module>\u001b[1;34m\u001b[0m\n\u001b[0;32m     19\u001b[0m \u001b[1;33m\u001b[0m\u001b[0m\n\u001b[0;32m     20\u001b[0m \u001b[1;31m# Example usage:\u001b[0m\u001b[1;33m\u001b[0m\u001b[1;33m\u001b[0m\u001b[1;33m\u001b[0m\u001b[0m\n\u001b[1;32m---> 21\u001b[1;33m \u001b[0mresult\u001b[0m \u001b[1;33m=\u001b[0m \u001b[0mmySqrt\u001b[0m\u001b[1;33m(\u001b[0m\u001b[1;33m)\u001b[0m\u001b[1;33m\u001b[0m\u001b[1;33m\u001b[0m\u001b[0m\n\u001b[0m\u001b[0;32m     22\u001b[0m \u001b[0mprint\u001b[0m\u001b[1;33m(\u001b[0m\u001b[0mresult\u001b[0m\u001b[1;33m)\u001b[0m\u001b[1;33m\u001b[0m\u001b[1;33m\u001b[0m\u001b[0m\n",
      "\u001b[1;31mTypeError\u001b[0m: mySqrt() missing 1 required positional argument: 'x'"
     ]
    }
   ],
   "source": [
    "def mySqrt(x):\n",
    "    i = 1\n",
    "    ans = i * i\n",
    "    \n",
    "    if x == 1:\n",
    "        return 1\n",
    "    \n",
    "    while ans < x:\n",
    "        i += 1\n",
    "        ans = i * i\n",
    "    \n",
    "    # At this point, ans is greater than or equal to x, and i*i is the first value greater than x\n",
    "    i -= 1\n",
    "    \n",
    "    if i*i != x:\n",
    "        i+=1\n",
    "    \n",
    "    return i\n",
    "\n",
    "# Example usage:\n",
    "result = mySqrt()\n",
    "print(result)\n"
   ]
  },
  {
   "cell_type": "code",
   "execution_count": null,
   "metadata": {},
   "outputs": [
    {
     "data": {
      "text/plain": [
       "[0, 1]"
      ]
     },
     "execution_count": 1,
     "metadata": {},
     "output_type": "execute_result"
    }
   ],
   "source": [
    "class Solution(object):\n",
    "    def climbStairs(self, n):\n",
    "        \"\"\"\n",
    "        :type n: int\n",
    "        :rtype: int\n",
    "        \"\"\"\n",
    "        lst=[]\n",
    "        for x in range(n):\n",
    "            lst.append(x)\n",
    "        return lst\n",
    "    \n",
    "sol=Solution()\n",
    "sol.climbStairs(2)"
   ]
  },
  {
   "cell_type": "code",
   "execution_count": null,
   "metadata": {},
   "outputs": [],
   "source": [
    "class Solution:\n",
    "    def lastStoneWeight(self, stones):\n",
    "        while len(stones) >1:\n",
    "            stones.sort()\n",
    "            x, y=stones[-1], stones[-2]\n",
    "            stones.pop()\n",
    "            stones.pop()\n",
    "            if x != y:\n",
    "                stones.append(x-y)\n",
    "        return stones[0] if stones else 0\n"
   ]
  },
  {
   "cell_type": "code",
   "execution_count": null,
   "metadata": {},
   "outputs": [],
   "source": [
    "class Solution:\n",
    "    def removeDuplicates(self, s: str) -> str:\n",
    "        for x in range(len(s)):\n",
    "            if x < len(s):\n",
    "                if s[x] == s[x+1]:\n",
    "                    res=s[:x] + s[x:]\n",
    "        return res"
   ]
  },
  {
   "cell_type": "code",
   "execution_count": null,
   "metadata": {},
   "outputs": [],
   "source": [
    "class Solution:\n",
    "    def isValid(self, s: str) -> bool:\n",
    "        d={\"(\": \")\", \"[\": \"]\", \"{\": \"}\"}\n",
    "        for x in range(len(s)):\n",
    "            if s[x] in d:\n",
    "                c=d[s[x]]\n",
    "                if s[x+1] == c:\n",
    "                    return True\n",
    "                return False\n",
    "            return False"
   ]
  },
  {
   "cell_type": "code",
   "execution_count": null,
   "metadata": {},
   "outputs": [],
   "source": [
    "class Solution(object):\n",
    "    def merge(self, nums1, m, nums2, n):\n",
    "        lst = []\n",
    "        c1, c2 = 0, 0\n",
    "\n",
    "        while c1 < m-1 and c2 < n-1:\n",
    "            if nums1[c1] <= nums2[c2]:\n",
    "                lst.append(nums1[c1])\n",
    "                c1 += 1\n",
    "            else:\n",
    "                lst.append(nums2[c2])\n",
    "                c2 += 1\n",
    "\n",
    "        return lst"
   ]
  },
  {
   "cell_type": "code",
   "execution_count": null,
   "metadata": {},
   "outputs": [],
   "source": [
    "class Solution:\n",
    "    def isPalindrome(self, s: str) -> bool:\n",
    "        i, size=0, len(s)-1\n",
    "        t=\"\"\n",
    "        r=[]\n",
    "        if not s:\n",
    "            return False\n",
    "        while i<=size:\n",
    "            if s[i] == \" \" or s[i] ==\",\" or s[i]==\":\":\n",
    "                i+=1\n",
    "            else:\n",
    "                yo=s[i].lower()\n",
    "                t+=yo\n",
    "                i+=1\n",
    "        mid=len(t)//2\n",
    "        if len(t)%2 == 0:\n",
    "            stacked=t[:mid]\n",
    "        else:\n",
    "            stacked=t[:mid+1]\n",
    "        str_com=t[mid+1:]\n",
    "        for x in stacked:\n",
    "            r.append(x)\n",
    "        for y in range(len(r)):\n",
    "            res=r.pop()\n",
    "            "
   ]
  },
  {
   "cell_type": "code",
   "execution_count": null,
   "metadata": {},
   "outputs": [
    {
     "data": {
      "text/plain": [
       "False"
      ]
     },
     "execution_count": 125,
     "metadata": {},
     "output_type": "execute_result"
    }
   ],
   "source": [
    "sol=Solution()\n",
    "sol.isPalindrome(\"A man, a plan, a canal: Panama\")\n"
   ]
  },
  {
   "cell_type": "code",
   "execution_count": null,
   "metadata": {},
   "outputs": [],
   "source": [
    "class Solution:\n",
    "    def isPalindrome(self, s: str) -> bool:\n",
    "        i, size=0, len(s)-1\n",
    "        t=\"\"\n",
    "        r=[]\n",
    "        if not s:\n",
    "            return False\n",
    "        while i<=size:\n",
    "            if s[i] == \" \" or s[i] ==\",\" or s[i]==\":\" or s[i] == \".\":\n",
    "                i+=1\n",
    "            else:\n",
    "                yo=s[i].lower()\n",
    "                t+=yo\n",
    "                i+=1\n",
    "        mid=len(t)//2\n",
    "        if len(t)==0 or len(t)==1:\n",
    "            return True\n",
    "        stacked=t[:mid]\n",
    "        if len(t)%2 == 0:\n",
    "            str_com=t[mid:]\n",
    "        str_com=t[mid+1:]\n",
    "        for x in stacked:\n",
    "            r.append(x)\n",
    "        for y in range(len(r)):\n",
    "            res=r.pop()\n",
    "            if res ==  str_com[y]:\n",
    "                return True\n",
    "            return False"
   ]
  },
  {
   "cell_type": "code",
   "execution_count": null,
   "metadata": {},
   "outputs": [],
   "source": [
    "class Solution:\n",
    "    def maxProfit(self, prices) -> int:\n",
    "        i=0\n",
    "        x=len(prices)-2\n",
    "        while i<=x:\n",
    "            if prices[i]>prices[i+1]:\n",
    "                prices[i+1]=prices[i]\n",
    "                i+=1\n",
    "        return (prices)"
   ]
  },
  {
   "cell_type": "code",
   "execution_count": null,
   "metadata": {},
   "outputs": [
    {
     "data": {
      "text/plain": [
       "[7, 7, 7, 7, 7, 7]"
      ]
     },
     "execution_count": 3,
     "metadata": {},
     "output_type": "execute_result"
    }
   ],
   "source": [
    "sol=Solution()\n",
    "sol.maxProfit([7, 1, 5, 3, 4, 6])"
   ]
  },
  {
   "cell_type": "code",
   "execution_count": null,
   "metadata": {},
   "outputs": [],
   "source": [
    "class Solution:\n",
    "    def countnum(self, s):\n",
    "        dict={}\n",
    "        for num in s:\n",
    "            if num not in dict:\n",
    "                dict[num] = 0\n",
    "            if num in dict:\n",
    "                dict[num]+=1\n",
    "        return dict"
   ]
  },
  {
   "cell_type": "code",
   "execution_count": null,
   "metadata": {},
   "outputs": [
    {
     "data": {
      "text/plain": [
       "{5: 2, 4: 3, 1: 2, 2: 1}"
      ]
     },
     "execution_count": 14,
     "metadata": {},
     "output_type": "execute_result"
    }
   ],
   "source": [
    "sol=Solution()\n",
    "sol.countnum([5, 4, 1, 1, 5, 2, 4, 4])"
   ]
  },
  {
   "cell_type": "code",
   "execution_count": 78,
   "metadata": {},
   "outputs": [],
   "source": [
    "class Solution:\n",
    "    def wordrev(self, stn):\n",
    "        lst=[]\n",
    "        new=\"\"\n",
    "        for s in stn.split():\n",
    "            lst.append(s)\n",
    "        l=len(lst)-1\n",
    "        while l>=0:\n",
    "            new+=(\" \"+lst[l])\n",
    "            l-=1\n",
    "        return new[1:]"
   ]
  },
  {
   "cell_type": "code",
   "execution_count": 79,
   "metadata": {},
   "outputs": [
    {
     "data": {
      "text/plain": [
       "'say I what Understand'"
      ]
     },
     "execution_count": 79,
     "metadata": {},
     "output_type": "execute_result"
    }
   ],
   "source": [
    "sol=Solution()\n",
    "sol.wordrev(\"Understand  what I say\")"
   ]
  },
  {
   "cell_type": "code",
   "execution_count": 35,
   "metadata": {},
   "outputs": [],
   "source": [
    "#number of maximum bst using catalan number formula\n",
    "class Solution:\n",
    "    def numTrees(self, n: int) -> int:\n",
    "        val=1\n",
    "        val2=1\n",
    "        lst=[]\n",
    "        for x in range((n*2), n+1, -1):\n",
    "            lst.append(x)\n",
    "            val=val*x\n",
    "        for y in range(n, 1, -1):\n",
    "            val2=val2*y\n",
    "        res=val/val2\n",
    "        return int(res)\n",
    "            \n"
   ]
  },
  {
   "cell_type": "code",
   "execution_count": 36,
   "metadata": {},
   "outputs": [
    {
     "data": {
      "text/plain": [
       "5"
      ]
     },
     "execution_count": 36,
     "metadata": {},
     "output_type": "execute_result"
    }
   ],
   "source": [
    "sol=Solution()\n",
    "sol.numTrees(3)"
   ]
  },
  {
   "cell_type": "code",
   "execution_count": 45,
   "metadata": {},
   "outputs": [],
   "source": [
    "class Solution:\n",
    "    def samesub(self, s1, s2, s3):\n",
    "        l=max(s1, s2, s3)\n",
    "        s=\"\"\n",
    "        for x in range(len(l)):\n",
    "            if s1[x] == s2[x]:\n",
    "                if s2[x] == s3[x]:\n",
    "                    s+=s3[x]\n",
    "                else:\n",
    "                    break\n",
    "            else:\n",
    "                break\n",
    "        return s"
   ]
  },
  {
   "cell_type": "code",
   "execution_count": 46,
   "metadata": {},
   "outputs": [
    {
     "data": {
      "text/plain": [
       "'fl'"
      ]
     },
     "execution_count": 46,
     "metadata": {},
     "output_type": "execute_result"
    }
   ],
   "source": [
    "sol=Solution()\n",
    "sol.samesub(\"florida\", \"flave\", \"flg\")"
   ]
  },
  {
   "cell_type": "code",
   "execution_count": 61,
   "metadata": {},
   "outputs": [],
   "source": [
    "class Solution:\n",
    "    def maxProfit(self, prices):\n",
    "        lst=[]\n",
    "        for x in range(len(prices)-1, -1, -1):\n",
    "            for y in range(x, len(prices)):\n",
    "                res=prices[y]-prices[x]\n",
    "                if res > 0:\n",
    "                    lst.append(res)\n",
    "        return max(lst)"
   ]
  },
  {
   "cell_type": "code",
   "execution_count": 62,
   "metadata": {},
   "outputs": [
    {
     "data": {
      "text/plain": [
       "5"
      ]
     },
     "execution_count": 62,
     "metadata": {},
     "output_type": "execute_result"
    }
   ],
   "source": [
    "sol=Solution()\n",
    "sol.maxProfit([7, 1, 5, 3, 6, 4])"
   ]
  },
  {
   "cell_type": "code",
   "execution_count": 76,
   "metadata": {},
   "outputs": [],
   "source": [
    "class Solution:\n",
    "    def uniqueOccurrences(self, arr):\n",
    "        dic={}\n",
    "        dic2={}\n",
    "        for x in arr:\n",
    "            if x not in dic:\n",
    "                dic[x] = 0\n",
    "            else:\n",
    "                dic[x]+=1\n",
    "        for y in dic.values():\n",
    "            if y not in dic2:\n",
    "                dic2[y] = 1\n",
    "            else:\n",
    "                dic2[y]+=1\n",
    "        for z in dic2.values():\n",
    "            if z == 1:\n",
    "                return True\n",
    "            return False"
   ]
  },
  {
   "cell_type": "code",
   "execution_count": 77,
   "metadata": {},
   "outputs": [
    {
     "data": {
      "text/plain": [
       "True"
      ]
     },
     "execution_count": 77,
     "metadata": {},
     "output_type": "execute_result"
    }
   ],
   "source": [
    "sol=Solution()\n",
    "sol.uniqueOccurrences([1,4,2,1,1,3])\n"
   ]
  }
 ],
 "metadata": {
  "kernelspec": {
   "display_name": "Python 3",
   "language": "python",
   "name": "python3"
  },
  "language_info": {
   "codemirror_mode": {
    "name": "ipython",
    "version": 3
   },
   "file_extension": ".py",
   "mimetype": "text/x-python",
   "name": "python",
   "nbconvert_exporter": "python",
   "pygments_lexer": "ipython3",
   "version": "3.8.5"
  }
 },
 "nbformat": 4,
 "nbformat_minor": 2
}
